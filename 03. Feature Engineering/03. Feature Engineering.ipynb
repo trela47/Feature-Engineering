{
 "cells": [
  {
   "cell_type": "code",
   "execution_count": 1,
   "id": "21db4ac4",
   "metadata": {},
   "outputs": [],
   "source": [
    "import pickle\n",
    "import pandas as pd\n",
    "import re\n",
    "import nltk\n",
    "from nltk.corpus import stopwords\n",
    "from nltk.stem import WordNetLemmatizer\n",
    "from sklearn.feature_extraction.text import TfidfVectorizer\n",
    "from sklearn.model_selection import train_test_split\n",
    "from sklearn.feature_selection import chi2\n",
    "import numpy as np"
   ]
  },
  {
   "cell_type": "code",
   "execution_count": 2,
   "id": "c6a8bf64",
   "metadata": {},
   "outputs": [],
   "source": [
    "path_df = \"C:/Users/trela/Python Programming/ICE1 Turn In/02. Exploratory Data Analysis/News_dataset.pickle\"\n",
    "\n",
    "with open(path_df, 'rb') as data:\n",
    "    df = pickle.load(data)"
   ]
  },
  {
   "cell_type": "code",
   "execution_count": 3,
   "id": "cc554047",
   "metadata": {},
   "outputs": [
    {
     "data": {
      "text/html": [
       "<div>\n",
       "<style scoped>\n",
       "    .dataframe tbody tr th:only-of-type {\n",
       "        vertical-align: middle;\n",
       "    }\n",
       "\n",
       "    .dataframe tbody tr th {\n",
       "        vertical-align: top;\n",
       "    }\n",
       "\n",
       "    .dataframe thead th {\n",
       "        text-align: right;\n",
       "    }\n",
       "</style>\n",
       "<table border=\"1\" class=\"dataframe\">\n",
       "  <thead>\n",
       "    <tr style=\"text-align: right;\">\n",
       "      <th></th>\n",
       "      <th>File_Name</th>\n",
       "      <th>Content</th>\n",
       "      <th>Category</th>\n",
       "      <th>Complete_Filename</th>\n",
       "      <th>id</th>\n",
       "      <th>News_length</th>\n",
       "    </tr>\n",
       "  </thead>\n",
       "  <tbody>\n",
       "    <tr>\n",
       "      <th>0</th>\n",
       "      <td>001.txt</td>\n",
       "      <td>Autonomous Vehicles 101\\r\\n\\r\\nAutonomous vehi...</td>\n",
       "      <td>autonomous vehicles</td>\n",
       "      <td>001.txt-autonomous vehicles</td>\n",
       "      <td>1</td>\n",
       "      <td>3041</td>\n",
       "    </tr>\n",
       "    <tr>\n",
       "      <th>1</th>\n",
       "      <td>002.txt</td>\n",
       "      <td>Which Cars Have Self-Driving Features for 2021...</td>\n",
       "      <td>autonomous vehicles</td>\n",
       "      <td>002.txt-autonomous vehicles</td>\n",
       "      <td>1</td>\n",
       "      <td>31287</td>\n",
       "    </tr>\n",
       "    <tr>\n",
       "      <th>2</th>\n",
       "      <td>003.txt</td>\n",
       "      <td>Self-driving cars: your complete guide to auto...</td>\n",
       "      <td>autonomous vehicles</td>\n",
       "      <td>003.txt-autonomous vehicles</td>\n",
       "      <td>1</td>\n",
       "      <td>63480</td>\n",
       "    </tr>\n",
       "    <tr>\n",
       "      <th>3</th>\n",
       "      <td>004.txt</td>\n",
       "      <td>Self-driving cars will not fix our transportat...</td>\n",
       "      <td>autonomous vehicles</td>\n",
       "      <td>004.txt-autonomous vehicles</td>\n",
       "      <td>1</td>\n",
       "      <td>6257</td>\n",
       "    </tr>\n",
       "    <tr>\n",
       "      <th>4</th>\n",
       "      <td>005.txt</td>\n",
       "      <td>How we feel about our cars means the road to a...</td>\n",
       "      <td>autonomous vehicles</td>\n",
       "      <td>005.txt-autonomous vehicles</td>\n",
       "      <td>1</td>\n",
       "      <td>5422</td>\n",
       "    </tr>\n",
       "  </tbody>\n",
       "</table>\n",
       "</div>"
      ],
      "text/plain": [
       "  File_Name                                            Content  \\\n",
       "0   001.txt  Autonomous Vehicles 101\\r\\n\\r\\nAutonomous vehi...   \n",
       "1   002.txt  Which Cars Have Self-Driving Features for 2021...   \n",
       "2   003.txt  Self-driving cars: your complete guide to auto...   \n",
       "3   004.txt  Self-driving cars will not fix our transportat...   \n",
       "4   005.txt  How we feel about our cars means the road to a...   \n",
       "\n",
       "              Category            Complete_Filename  id  News_length  \n",
       "0  autonomous vehicles  001.txt-autonomous vehicles   1         3041  \n",
       "1  autonomous vehicles  002.txt-autonomous vehicles   1        31287  \n",
       "2  autonomous vehicles  003.txt-autonomous vehicles   1        63480  \n",
       "3  autonomous vehicles  004.txt-autonomous vehicles   1         6257  \n",
       "4  autonomous vehicles  005.txt-autonomous vehicles   1         5422  "
      ]
     },
     "execution_count": 3,
     "metadata": {},
     "output_type": "execute_result"
    }
   ],
   "source": [
    "df.head()"
   ]
  },
  {
   "cell_type": "code",
   "execution_count": 4,
   "id": "76122674",
   "metadata": {},
   "outputs": [
    {
     "data": {
      "text/plain": [
       "'Which Cars Have Self-Driving Features for 2021?\\r\\n\\r\\nNot long ago, fully autonomous vehicles for the masses were said to be just around the corner. As it turns out, making the final leap to full autonomy â€” self-driving on any road at any time â€” remains tantalizingly out of reach both for engineers and safety regulators. And despite all the attention such vehicles have drawn, Americans arenâ€™t exactly clamoring for self-driving cars: The latest AAA annual survey on automated vehicles found that just 14% of drivers would trust riding in a self-driving car, about the same as 2020.\\r\\n\\r\\nBut tech features that form the building blocks for self-driving have spread quickly into mainstream vehicles in just a few years (check out our 2016 report here). These systems can now aid the driver with steering, acceleration and braking â€” though we stress that, no matter their capabilities, they are not truly self-driving. All such systems still require the driver to be in charge and ready to take over. \\r\\n\\r\\nKey among the current systems are adaptive cruise control and lane-centering steering. The best ones function from highway speeds down to a full stop and can relieve you of much grunt work, both in congested commutes and in long hours on the highway. While most of these systems still require you to keep your hands on the wheel, a few now let you leave your hands off the wheel in certain situations. But no matter what you see on YouTube, none as of now let you safely take your eyes off the road to read, sleep or update your Instagram. (If you want more explanation about these features, youâ€™ll find it below, following the list.)\\r\\n\\r\\nHere are the mass-market brands (excluding exotics and uber-luxury cars) that offer such high-level adaptive cruise control and lane-centering steering for 2021. Note that for simplicityâ€™s sake, we list just the root nameplates; we donâ€™t break out related offshoots, such as alternate body styles that share major components and naming (e.g., the Toyota Corolla Hatchback or Volkswagen Atlas Cross Sport), nor do we split off performance (e.g., the Audi S4) or electrified (e.g., the Ford Escape Hybrid) versions. We made a few exceptions where the feature is exclusive to just one variant, but we kept things at the overall model level for the most part.\\r\\n\\r\\nAlphabetically by brand, hereâ€™s the state of these self-driving features for the 2021 model year:\\r\\n\\r\\nAcura\\r\\nHands-on lane centering at higher speeds only:\\r\\n2021 Acura ILX\\r\\nAdaptive cruise control down to a stop with hands-on lane centering at higher speeds only:\\r\\n2021 Acura RDX\\r\\nAdaptive cruise control and hands-on lane centering, both down to a stop:\\r\\n2021 Acura TLX\\r\\nWhat should I look for?\\r\\nAcura bundles most driver-assist tech under its AcuraWatch suite of safety features. Depending on the vehicle, AcuraWatch includes a Lane Keeping Assist System, Adaptive Cruise Control with Low-Speed Follow, or both. Lane-centering steering via LKAS functions only from 45 mph up, but the TLX (and coming MDX) add Traffic Jam Assist with lane-centering steering down to a stop. Note that Acuraâ€™s MDX skipped the 2021 model year and the redesigned 2022, which just went on sale,  now includes hands-on lane-centering steering and adaptive cruise control, both of which can work down to a stop.\\r\\n\\r\\nResearch Acura Vehicles\\r\\n\\r\\nAlfa Romeo\\r\\nAdaptive cruise control and hands-on lane centering, both down to a stop:\\r\\n2021 Alfa Romeo Giulia\\r\\n2021 Alfa Romeo Stelvio\\r\\nWhat should I look for?\\r\\nAdaptive Cruise Control with Full Stop, plus two lane-centering steering systems: Traffic Jam Assist, which works up to 37 mph, and the Highway Assist System, which works up to 90 mph on lane-marked highways intuited through GPS. Both are hands-on systems.\\r\\n\\r\\nResearch Alfa Romeo Vehicles\\r\\n\\r\\nAudi\\r\\nAdaptive cruise control and hands-on lane centering, both down to a stop:\\r\\n2021 Audi A4\\r\\n2021 Audi A5\\r\\n2021 Audi A6\\r\\n2021 Audi A7\\r\\n2021 Audi A8\\r\\n2021 Audi E-tron\\r\\n2021 Audi Q3\\r\\n2021 Audi Q5\\r\\n2021 Audi Q7\\r\\n2021 Audi Q8\\r\\nWhat should I look for?\\r\\nAudi terminology varies. Traffic Jam Assist provides hands-on lane-centering steering at vehicle speeds up to around 40 mph. Active Lane Assist, which Audi also characterizes as lane centering, works above roughly 40 mph. For adaptive cruise control, look for Adaptive Cruise Control with Stop and Go, sometimes simply called Adaptive Cruise Control or Adaptive Cruise Assist. Itâ€™s available on every 2021 Audi model except the R8 and TT sports cars. The TT also offers something called Active Lane Assist, but its version does not include lane centering. Note that the Audi A3 skipped the 2021 model year and the redesigned 2022 will include lane centering and adaptive cruise control to a stop.\\r\\n\\r\\nResearch Audi Vehicles\\r\\n\\r\\nBMW\\r\\nAdaptive cruise control down to a stop:\\r\\n2021 BMW 2 Series coupe and convertible\\r\\n2021 BMW 2 Series Gran Coupe\\r\\n2021 BMW 4 Series\\r\\n2021 BMW i3\\r\\n2021 BMW X1\\r\\n2021 BMW X2\\r\\n2021 BMW Z4\\r\\nAdaptive cruise control and hands-on lane centering, both down to a stop:\\r\\n2021 BMW X3\\r\\n2021 BMW X4\\r\\nAdaptive cruise control and hands-on lane centering, both down to a stop, plus hands-free lane centering at lower speeds only:\\r\\n2021 BMW 3 Series\\r\\n2021 BMW 5 Series \\r\\n2021 BMW 7 Series\\r\\n2021 BMW 8 Series\\r\\n2021 BMW X5\\r\\n2021 BMW X6\\r\\n2021 BMW X7\\r\\nWhat should I look for?\\r\\nAdaptive cruise control that operates to a stop goes by Active Cruise Control with Stop & Go. A step beyond, Active Lane Keeping Assist and Extended Traffic Jam Assistant (sometimes called Active Driving Assistant for all three, including the cruise control) offer hands-on lane-centering steering that works to a stop in certain traffic conditions. Finally, Extended Traffic Jam Assistant,  â€” now available on more than half a dozen models new or substantially updated since 2019 â€” allows hands-free lane centering on certain divided highways at speeds up to 40 mph as long as youâ€™re paying attention (verified with a driver-facing camera). BMW is one of three brands in the U.S. (the others are Cadillac and Ford) to offer conditional hands-free driving for the 2021 model year, and more are coming. In our experience with ETJA, the system transitions to hands-on lane centering when you pass 40 mph.\\r\\n\\r\\nResearch BMW Vehicles\\r\\n\\r\\nBuick\\r\\nAdaptive cruise control down to a stop:\\r\\n2021 Buick Enclave\\r\\n2021 Buick Encore GX\\r\\n2021 Buick Envision\\r\\nWhat should I look for?\\r\\nDepending on the car, look for Adaptive Cruise Control-Advanced or Adaptive Cruise Control-Camera.\\r\\n\\r\\nResearch Buick Vehicles\\r\\n\\r\\nCadillac\\r\\nAdaptive cruise control down to a stop:\\r\\n2021 Cadillac XT4\\r\\n2021 Cadillac XT5\\r\\n2021 Cadillac XT6\\r\\nAdaptive cruise control and hands-free lane centering, both down to a stop:\\r\\n2021 Cadillac CT4\\r\\n2021 Cadillac CT5\\r\\n2021 Cadillac Escalade\\r\\nWhat should I look for?\\r\\nAdaptive Cruise Control-Advanced or Advanced Adaptive Cruise Control. Hands-free lane-centering steering from a stop up to highway speeds, which you can activate on certain highways only, comes via Cadillacâ€™s Super Cruise system. Introduced for the 2018 model year, Super Cruise is no longer the only hands-free steering system in a U.S. production vehicle â€” Ford and BMW offer it now or will within the 2021 model year, and others have systems coming soon after that. Super Cruise doesnâ€™t relieve you of the need to pay attention: You have to be ready to take back the wheel, and it checks on you via a driver-facing camera.\\r\\n\\r\\nResearch Cadillac Vehicles\\r\\n\\r\\nChevrolet\\r\\nAdaptive cruise control down to a stop:\\r\\n2021 Chevrolet Blazer\\r\\n2021 Chevrolet Equinox\\r\\n2021 Chevrolet Malibu\\r\\n2021 Chevrolet Tahoe\\r\\n2021 Chevrolet Trailblazer\\r\\n2021 Chevrolet Traverse\\r\\n2021 Chevrolet Silverado 1500\\r\\n2021 Chevrolet Suburban\\r\\nWhat should I look for?\\r\\nAdaptive Cruise Control-Advanced or Adaptive Cruise Control-Camera, depending on the vehicle.\\r\\n\\r\\nResearch Chevrolet Vehicles\\r\\n\\r\\nChrysler\\r\\nAdaptive cruise control down to a stop:\\r\\n2021 Chrysler 300\\r\\n2021 Chrysler Pacifica\\r\\nWhat should I look for?\\r\\nAdaptive Cruise Control with Stop or Adaptive Cruise Control with Stop and Go.\\r\\n\\r\\nResearch Chrysler Vehicles\\r\\n\\r\\nDodge\\r\\nAdaptive cruise control down to a stop:\\r\\n2021 Dodge Charger\\r\\n2021 Dodge Durango\\r\\nWhat should I look for?\\r\\nDepending on the model, Adaptive Cruise Control with Stop or Adaptive Cruise Control Plus with Full Stop.\\r\\n\\r\\nResearch Dodge Vehicles\\r\\n\\r\\nFord\\r\\nAdaptive cruise control down to a stop:\\r\\n2021 Ford Bronco\\r\\n2021 Ford Expedition\\r\\nAdaptive cruise control and hands-on lane centering, both down to a stop:\\r\\n2021 Ford Bronco Sport\\r\\n2021 Ford Edge\\r\\n2021 Ford Escape\\r\\n2021 Ford Explorer\\r\\nAdaptive cruise control and hands-free lane centering, both down to a stop:\\r\\n2021 Ford F-150\\r\\n2021 Ford Mustang Mach-E\\r\\nWhat should I look for?\\r\\nLook for Adaptive Cruise Control with Stop-and-Go, though some models carry simpler designations. Ford now has packaged many assistance features into a suite called Ford Co-Pilot360 Technology, though contents can vary by model or trim level. A more advanced suite, called Co-Pilot360 Assist Plus, adds hands-on lane-centering steering to a stop for most models itâ€™s offered on.\\r\\n\\r\\nSeparately, a new option called Ford Co-Pilot360 Assist 2.0 with Active Drive Assist will debut on the Mustang Mach-E and the redesigned F-150. It will allow hands-free, though not attention-free, driving. Like with similar systems from BMW and Cadillac, a driver-facing camera ensures youâ€™re watching the road; the feature will work only on  certain divided highways approved by Ford. \\r\\n\\r\\nThe Active Drive Assist software will come in the second half of the 2021 calendar year through over-the-air updates for vehicles already on the road. The hands-free lane centering can operate down to a stop, as thereâ€™s â€œno lower speed limit for ADA to function as long as other critical conditionsâ€\\x9d are met, a Ford spokesperson told Cars.com. Note, too, that the F-150 requires you to pay for a prep package with certain hardware to be able to get it; the hardware cannot be added later. The Mach-E has the prep package standard on most models.\\r\\n\\r\\nResearch Ford Vehicles\\r\\n\\r\\nGenesis\\r\\nAdaptive cruise control down to a stop:\\r\\n2021 Genesis G70\\r\\nAdaptive cruise control and hands-on lane centering, both down to a stop:\\r\\n2021 Genesis G80\\r\\n2021 Genesis G90\\r\\n2021 Genesis GV80\\r\\nWhat should I look for?\\r\\nSmart Cruise Control with Machine Learning, Lane Keeping Assist and Lane Following Assist (LFA enables hands-on lane-centering steering at vehicle speeds up to 95 mph). A feature called Highway Driving Assist (G90) or Highway Driving Assist II (an update in the G80 and GV80) enhances the capability of these systems on highways with GPS and navigation data to adjust for the specific location and road. HDA also now is available on some models from Genesisâ€™ parent automaker, Hyundai. The G70 offers only LKA. Although Genesis does not call it true lane centering our yearlong experience in the G70 found LKA generally centered the vehicle above 40 mph. A Genesis representative told Cars.com that the G70â€™s system would â€œautomatically steer at higher speeds to keep you within your lane but will not necessarily keep you centered.â€\\x9d \\r\\n\\r\\nResearch Genesis Vehicles\\r\\n\\r\\nGMC\\r\\nAdaptive cruise control down to a stop:\\r\\n2021 GMC Acadia\\r\\n2021 GMC Sierra 1500\\r\\n2021 GMC Terrain\\r\\n2021 GMC Yukon\\r\\nWhat should I look for?\\r\\nAdaptive Cruise Control-Advanced or Adaptive Cruise Control-Camera, depending on the vehicle.\\r\\n\\r\\nResearch GMC Vehicles\\r\\n\\r\\nHonda\\r\\nHands-on lane centering at higher speeds only:\\r\\n2021 Honda HR-V\\r\\n2021 Honda Passport\\r\\n2021 Honda Pilot\\r\\n2021 Honda Ridgeline\\r\\nAdaptive cruise control down to a stop and hands-on lane centering at higher speeds only:\\r\\n2021 Honda Accord\\r\\n2021 Honda Civic\\r\\n2021 Honda Clarity\\r\\n2021 Honda CR-V\\r\\n2021 Honda Insight\\r\\n2021 Honda Odyssey\\r\\nWhat should I look for?\\r\\nMost driver-assist tech is wrapped into a Honda Sensing suite of safety systems, but features vary. Honda Sensing includes a Lane-Keeping Assist System that enables hands-on lane-centering steering at higher speeds â€” not to be confused with similarly named LKA systems from other brands, which mostly intervene as you approach lane markings rather than actively centering. Six models pair LKAS with Adaptive Cruise Control with Low-Speed Follow, which works all the way to a stop. Four other models, however, pair it with adaptive cruise control that functions only at vehicle speeds above 22 mph.\\r\\n\\r\\nResearch Honda Vehicles\\r\\n\\r\\nHyundai\\r\\nAdaptive cruise control down to a stop:\\r\\n2021 Hyundai Kona Electric\\r\\n2021 Hyundai Tucson\\r\\nHands-on lane centering down to a stop:\\r\\n2021 Hyundai Veloster\\r\\nAdaptive cruise control and hands-on lane centering, both down to a stop:\\r\\n2021 Hyundai Elantra\\r\\n2021 Hyundai Ioniq\\r\\n2021 Hyundai Nexo\\r\\n2021 Hyundai Palisade\\r\\n2021 Hyundai Santa Fe\\r\\n2021 Hyundai Sonata\\r\\nWhat should I look for?\\r\\nSmart Cruise Control with Stop & Go and Lane Following Assist, which adds hands-on lane-centering steering to a stop. An additional feature called Highway Driving Assist â€” offered on the Elantra, Ioniq, Palisade, Santa Fe and Sonata â€” enhances these systems on highways with GPS and navigation data to adjust speed for the specific location and road. Hyundai dubs its overall suite of safety and driver-assist features SmartSense, though its specific contents can vary by vehicle. The LFA is not to be confused with Lane Keeping Assist, a separate feature on some vehicles that, in Cars.comâ€™s experience, makes subtle steering corrections to keep the car centered above moderate vehicle speeds, though Hyundai officials donâ€™t call it lane centering. \\r\\n\\r\\nResearch Hyundai Vehicles\\r\\n\\r\\nInfiniti\\r\\nAdaptive cruise control down to a stop:\\r\\n2021 Infiniti QX80\\r\\nAdaptive cruise control down to a stop with hands-on lane centering at higher speeds only:\\r\\n2021 Infiniti Q50\\r\\n2021 Infiniti Q60\\r\\nAdaptive cruise control and hands-on lane centering, both down to a stop:\\r\\n2020 Infiniti QX50\\r\\nWhat should I look for?\\r\\nInfiniti calls its adaptive cruise control with full-stop capabilities Intelligent Cruise Control with Full-Speed Range, or some variation of that label. Hands-on lane-centering steering at higher speeds (Q50 and Q60) goes by Active Lane Control, while Infinitiâ€™s most robust system â€” which includes lane centering all the way down to a stop â€” is the ProPilot Assist offered on the QX50 and on the upcoming 2022 QX55. Note that the Infiniti QX60 SUV is skipping the 2021 model year before a redesigned 2022 version appears later this year.\\r\\n\\r\\nResearch Infiniti Vehicles\\r\\n\\r\\nJaguar\\r\\nAdaptive cruise control down to a stop:\\r\\n2021 Jaguar E-Pace\\r\\n2021 Jaguar F-Pace\\r\\n2021 Jaguar XF\\r\\nAdaptive cruise control and hands-on lane centering, both down to a stop:\\r\\n2021 Jaguar I-Pace\\r\\nWhat should I look for?\\r\\nAdaptive Cruise Control with Stop & Go constitutes adaptive cruise control down to a stop in slow-moving traffic, and it automatically resumes if the car ahead starts moving within a few seconds. Adaptive Cruise Control with Steering Assist adds hands-on lane-centering steering to a stop. Steering Assist is not to be confused with Lane Keep Assist on many Jaguar models. Despite a name similar to some brandsâ€™ lane-centering systems, Jaguarâ€™s LKA is a departure assist that nudges you back when you drift toward lane markings.\\r\\n\\r\\nResearch Jaguar Vehicles\\r\\n\\r\\nJeep\\r\\nAdaptive cruise control down to a stop:\\r\\n2021 Jeep Cherokee\\r\\n2021 Jeep Compass\\r\\n2021 Jeep Gladiator\\r\\n2021 Jeep Grand Cherokee\\r\\n2021 Jeep Wrangler\\r\\nAdaptive cruise control and hands-on lane centering, both down to a stop:\\r\\n2021 Jeep Grand Cherokee L\\r\\nWhat should I look for?\\r\\nActive Drive Assist on the new Grand Cherokee L adds hands-on lane-centering steering, a first for Jeep. For the others, look for Adaptive Cruise Control Plus, Adaptive Cruise Control with Stop or simply Adaptive Cruise Control, depending on the model. Note that the Renegade also offers adaptive cruise control, but only the others above have full-stop capabilities.\\r\\n\\r\\nResearch Jeep Vehicles\\r\\n\\r\\nKia\\r\\nAdaptive cruise control down to a stop:\\r\\n2021 Kia Niro\\r\\n2021 Kia Sedona\\r\\n2021 Kia Stinger\\r\\nAdaptive cruise control and hands-on lane centering, both down to a stop:\\r\\n2021 Kia K5\\r\\n2021 Kia Niro EV\\r\\n2021 Kia Seltos\\r\\n2021 Kia Sorento\\r\\n2021 Kia Sportage\\r\\n2021 Kia Telluride\\r\\nWhat should I look for?\\r\\nSmart Cruise Control with Stop & Go. On the Niro EV, Telluride, Sportage, Sorento, K5 and Seltos, hands-on lane-centering steering comes in the form of Lane Follow Assist. By contrast, Lane Keep Assist (sometimes Lane Keeping Assist) is a separate feature that Kia officials donâ€™t call lane centering, but Cars.comâ€™s experience in various Kia models has been that LKA generally keeps the car centered in its lane above vehicle speeds of around 40 mph. \\r\\n\\r\\nResearch Kia Vehicles\\r\\n\\r\\nLand Rover\\r\\nAdaptive cruise control down to a stop:\\r\\n2021 Land Rover Defender\\r\\n2021 Land Rover Discovery\\r\\n2021 Land Rover Discovery Sport\\r\\n2021 Land Rover Range Rover Evoque\\r\\nAdaptive cruise control and hands-on lane centering, both down to a stop:\\r\\n2021 Land Rover Range Rover\\r\\n2021 Land Rover Range Rover Sport\\r\\nWhat should I look for?\\r\\nAdaptive Cruise Control or Adaptive Cruise Control with Steering Assist, which adds hands-on lane-centering steering. Donâ€™t confuse Steering Assist with Lane Keep Assist, a separate Land Rover system that only intervenes to help you not to drift lane markings. \\r\\n\\r\\nResearch Land Rover Vehicles\\r\\n\\r\\nLexus\\r\\nAdaptive cruise control down to a stop:\\r\\n2021 Lexus LX\\r\\nAdaptive cruise control and hands-on lane centering, both down to stop:\\r\\n2021 Lexus ES\\r\\n2021 Lexus IS\\r\\n2021 Lexus LC\\r\\n2021 Lexus LS\\r\\n2021 Lexus NX\\r\\n2021 Lexus RX\\r\\n2021 Lexus UX\\r\\nWhat should I look for?\\r\\nAll-Speed Dynamic Radar Cruise Control, which works to a stop. Hands-on lane-centering steering comes as either Lane-Keep Assist (LC) or Lane Tracing Assist (ES, IS, LS, NX, RX, UX). Both systems work down to a stop, but the more advanced LTA can trace the path of the car in front, not just lane markings, and better keep the vehicle centered on curvier roads.\\r\\n\\r\\nResearch Lexus Vehicles\\r\\n\\r\\nLincoln\\r\\nAdaptive cruise control down to a stop:\\r\\n2021 Lincoln Navigator\\r\\nAdaptive cruise control and hands-on lane centering, both down to a stop:\\r\\n2021 Lincoln Aviator\\r\\n2021 Lincoln Corsair\\r\\n2021 Lincoln Nautilus\\r\\nWhat should I look for?\\r\\nAdaptive Cruise Control with Stop-and-Go and Lane Centering. The Aviator, Corsair and Nautilus offer a version of Lincolnâ€™s Co-Pilot360 assistance tech suite dubbed Co-Pilot360 Plus, which adds hands-on lane-centering steering.\\r\\n\\r\\nResearch Lincoln Vehicles\\r\\n\\r\\nMaserati\\r\\nAdaptive cruise control and hands-on lane centering, both down to a stop:\\r\\n2021 Maserati Ghibli\\r\\n2021 Maserati Levante\\r\\n2021 Maserati Quattroporte\\r\\nWhat should I look for?\\r\\nAdaptive Cruise Control, which in this case functions all the way down to a stop. Maseratiâ€™s Highway Assist System can provide hands-on lane-centering steering all the way to a stop on GPS-intuited highways or limited-access freeways. An upgrade for 2021, however, is an Active Driver Assist system, which extends the same functionality to non-highway roads.\\r\\n\\r\\nResearch Maserati Vehicles\\r\\n\\r\\nMazda\\r\\nAdaptive cruise control down to a stop:\\r\\n2021 Mazda6\\r\\n2021 Mazda CX-3\\r\\n2021 Mazda CX-5\\r\\n2021 Mazda CX-9\\r\\nAdaptive cruise control down to a stop and hands-on lane centering at lower speeds only:\\r\\n2021 Mazda3\\r\\n2021 Mazda CX-30\\r\\nWhat should I look for?\\r\\nMazda Radar Cruise Control with Stop & Go. On the Mazda3 and CX-30, a new feature for 2021 called Traffic Jam Assist offers hands-on lane-centering steering from a stop up to vehicle speeds of 40 mph.\\r\\n\\r\\nResearch Mazda Vehicles\\r\\n\\r\\nMercedes-Benz\\r\\nAdaptive cruise control down to a stop:\\r\\n2021 Mercedes-AMG GT\\r\\n2021 Mercedes-Benz G-Class\\r\\n2021 Mercedes-Benz Sprinter\\r\\nAdaptive cruise control and hands-on lane centering, both down to a stop:\\r\\n2021 Mercedes-AMG GT 4-Door Coupe\\r\\n2021 Mercedes-Benz A-Class\\r\\n2021 Mercedes-Benz C-Class\\r\\n2021 Mercedes-Benz CLA-Class\\r\\n2021 Mercedes-Benz CLS-Class\\r\\n2021 Mercedes-Benz E-Class\\r\\n2021 Mercedes-Benz GLA-Class\\r\\n2021 Mercedes-Benz GLB-Class\\r\\n2021 Mercedes-Benz GLC-Class\\r\\n2021 Mercedes-Benz GLE-Class\\r\\n2021 Mercedes-Benz GLS-Class\\r\\n2021 Mercedes-Benz S-Class\\r\\n2021 Mercedes-Benz SL-Class\\r\\nWhat should I look for?\\r\\nActive Distance Assist Distronic and Active Steering Assist.\\r\\n\\r\\nResearch Mercedes-Benz Vehicles\\r\\n\\r\\nMini\\r\\nAdaptive cruise control down to a stop:\\r\\n2021 Mini Clubman\\r\\n2021 Mini Countryman\\r\\nWhat should I look for?\\r\\nDepending on the context, Active Cruise Control or Adaptive Cruise Control.\\r\\n\\r\\nResearch Mini Vehicles\\r\\n\\r\\nMitsubishi\\r\\nAdaptive cruise control down to a stop:\\r\\n2021 Mitsubishi Outlander PHEV\\r\\nWhat should I look for?\\r\\nMitsubishi simply calls it Adaptive Cruise Control. Note that the gasoline Outlander and the Eclipse Cross both skipped the 2021 model year, and Mitsubishi is rolling out redesigns for the 2022 model year that will be on sale in the 2021 calendar year. The plug-in hybrid version of the current Outlander, however, carried over for the 2021 model year.\\r\\n\\r\\nResearch Mitsubishi Vehicles\\r\\n\\r\\nNissan\\r\\nAdaptive cruise control down to a stop:\\r\\n2021 Nissan Armada\\r\\n2021 Nissan Kicks \\r\\n2021 Nissan Maxima\\r\\n2021 Nissan Murano\\r\\n2021 Nissan Sentra\\r\\n2021 Nissan Titan\\r\\n2021 Nissan Versa\\r\\nAdaptive cruise control and hands-on lane centering, both down to a stop:\\r\\n2021 Nissan Altima\\r\\n2021 Nissan Leaf\\r\\n2021 Nissan Rogue\\r\\n2021 Nissan Rogue Sport\\r\\nWhat should I look for?\\r\\nIntelligent Cruise Control with Full Speed Range or some variation of those terms. Itâ€™s called simply Intelligent Cruise Control for many models, but the system still can bring you to a halt in bumper-to-bumper traffic. Hands-on lane-centering steering comes by way of Nissanâ€™s ProPilot Assist system, which combines adaptive cruise control and lane-centering steering, both down to a stop. Note that the Rogue Sport is based on a separate platform than the Rogue and thus merits its own callout despite similar naming. The Pathfinder, meanwhile, skips the 2021 model year, and Nissan has previewed a redesigned 2022 Pathfinder due in the summer. \\r\\n\\r\\nResearch Nissan Vehicles\\r\\n\\r\\nPolestar\\r\\nAdaptive cruise control and hands-on lane centering, both down to a stop:\\r\\n2021 Polestar 1\\r\\n2021 Polestar 2\\r\\nWhat should I look for?\\r\\nPolestarâ€™s Pilot Assist, a system with the same name and capabilities as that of fellow Geely-owned brand Volvo, combines hands-on lane-centering steering with adaptive cruise control, both of which work all the way to a stop.\\r\\n\\r\\nResearch Polestar 2\\r\\n\\r\\nPorsche\\r\\nAdaptive cruise control down to a stop:\\r\\n2021 Porsche 718\\r\\n2021 Porsche 911\\r\\n2021 Porsche Panamera\\r\\n2021 Porsche Macan\\r\\nAdaptive cruise control and hands-on lane centering, both down to a stop:\\r\\n2021 Porsche Cayenne\\r\\n2021 Porsche Taycan\\r\\nWhat should I look for?\\r\\nAdaptive Cruise Control. Lane centering goes by Active Lane Keep on the Cayenne, while the Taycan offers Traffic Jam Assist with Active Lane Keep and a more robust lane-keeping capability as part of Porscheâ€™s InnoDrive system. (Other Porsche models also offer InnoDrive, but capabilities vary, so the name alone doesnâ€™t signal all such capabilities.)\\r\\n\\r\\nResearch Porsche Vehicles\\r\\n\\r\\nRam\\r\\nAdaptive cruise control down to a stop:\\r\\n2021 Ram 1500\\r\\n2021 Ram 2500\\r\\n2021 Ram 3500\\r\\nWhat should I look for?\\r\\nAdaptive Cruise Control with Stop on the Ram 2500/3500 or Adaptive Cruise Control with Stop, Go and Hold on the Ram 1500.\\r\\n\\r\\nResearch Ram Vehicles\\r\\n\\r\\nSubaru\\r\\nAdaptive cruise control down to a stop:\\r\\n2021 Subaru Crosstrek Hybrid\\r\\n2021 Subaru Impreza\\r\\n2021 Subaru WRX\\r\\nAdaptive cruise control and hands-on lane centering, both down to a stop:\\r\\n2021 Subaru Ascent\\r\\n2021 Subaru Crosstrek \\r\\n2021 Subaru Forester\\r\\n2021 Subaru Legacy\\r\\n2021 Subaru Outback\\r\\nWhat should I look for?\\r\\nSubaruâ€™s EyeSight system, which bundles Adaptive Cruise Control down to a stop with various safety technologies, is available on all models except the BRZ coupe. The Ascent, Crosstrek (but not Crosstrek Hybrid), Forester, Legacy and Outback offer an updated version of EyeSight that adds Advanced Adaptive Cruise Control with Lane Centering. Donâ€™t confuse it with EyeSightâ€™s Lane Keep Assist function, which can only apply slight steering corrections as you approach lane markings but will not actively center the vehicle in its lane.\\r\\n\\r\\nResearch Subaru Vehicles\\r\\n\\r\\nTesla\\r\\nAdaptive cruise control and hands-on lane centering, both down to a stop:\\r\\n2021 Tesla Model 3\\r\\n2021 Tesla Model S\\r\\n2021 Tesla Model X\\r\\n2021 Tesla Model Y\\r\\nWhat should I look for?\\r\\nAutopilot, Teslaâ€™s robust driving assistance system. Although Tesla bills it as a hands-on-the-wheel system, early versions allowed you to drive hands-free for extended periods. Tesla has since updated Autopilot software in new cars and ones already on the road (through over-the-air updates) to deactivate if it senses driversâ€™ hands are repeatedly off the wheel. \\r\\n\\r\\nResearch Tesla Vehicles\\r\\n\\r\\nToyota\\r\\nAdaptive cruise control down to a stop:\\r\\n2021 Toyota Avalon\\r\\n2021 Toyota Supra\\r\\nAdaptive cruise control and hands-on lane centering, both down to stop:\\r\\n2021 Toyota Camry\\r\\n2021 Toyota C-HR\\r\\n2021 Toyota Corolla\\r\\n2021 Toyota Highlander\\r\\n2021 Toyota Mirai\\r\\n2021 Toyota Prius\\r\\n2021 Toyota RAV4\\r\\n2021 Toyota Sienna\\r\\n2021 Toyota Venza\\r\\nWhat should I look for?\\r\\nToyotaâ€™s adaptive cruise control down to a stop is variously called Full-Speed Dynamic Radar Cruise Control, Full-Speed Range Dynamic Radar Cruise Control or Dynamic Radar Cruise Control with Full-Speed Range â€” the key words obviously being â€œfull-speed.â€\\x9d For hands-on lane-centering steering, look for Lane Tracing Assist or Lane Trace Assist, depending on the vehicle.\\r\\n\\r\\nResearch Toyota Vehicles\\r\\n\\r\\nVolkswagen\\r\\nAdaptive cruise control down to a stop:\\r\\n2021 Volkswagen Golf GTI\\r\\n2021 Volkswagen Jetta\\r\\n2021 Volkswagen Tiguan\\r\\nAdaptive cruise control and hands-on lane centering, both down to stop:\\r\\n2021 Volkswagen Arteon\\r\\n2021 Volkswagen Atlas\\r\\n2021 Volkswagen ID.4\\r\\nWhat should I look for?\\r\\nVolkswagen is rolling out IQ.Drive for model-year 2021, a suite of assistance features including a new Travel Assist system that combines Adaptive Cruise Control and hands-on lane-centering steering, called Lane Assist, in four models. Note that when Travel Assist is not activated, the lane centering functions at higher speeds only. The Atlas got a mid-2021 update for 2021.5 that gives more robust lane centering, but the 2021 Atlas Cross Sport also has the capability.\\r\\n\\r\\nResearch Volkswagen Vehicles\\r\\n\\r\\nVolvo\\r\\nAdaptive cruise control and hands-on lane centering, both down to a stop:\\r\\n2021 Volvo S60\\r\\n2021 Volvo S90\\r\\n2021 Volvo V60\\r\\n2021 Volvo V90\\r\\n2021 Volvo XC40\\r\\n2021 Volvo XC60\\r\\n2021 Volvo XC90\\r\\nWhat should I look for?\\r\\nVolvoâ€™s Pilot Assist system, which incorporates hands-on lane centering and adaptive cruise control. Both systems work all the way to a stop.\\r\\n\\r\\nResearch Volvo Vehicles\\r\\n\\r\\nMore From Cars.com:\\r\\n\\r\\nWhich Cars Have Self-Driving Features for 2019?\\r\\nWhich Cars Have Self-Driving Features for 2018?\\r\\nWhich Cars Have Self-Driving Features for 2017?\\r\\nWhich Cars Have Self-Driving Features for 2016? \\r\\nMore Self-Driving Car Coverage\\r\\nQuestions? Want More Details? A Deeper Dive\\r\\nThe systems above have myriad technological differences and may require specific road conditions. Weâ€™ve found that real-world performance, smooth operation and ease of use also can vary. When shopping, itâ€™s a good idea to research any prospective vehicleâ€™s self-driving systems â€” how they work and whether they can do what you expect. And after you buy, insist that the dealerâ€™s tech specialist walks you through safe operation.\\r\\n\\r\\nWant to know more about the types of systems named above? Read on for a deeper dive.\\r\\n\\r\\nAdaptive Cruise Control to a Stop\\r\\nThe current â€œsmartâ€\\x9d cruise control systems build on conventional fixed-speed cruise control (which reportedly dates to Chryslers in 1958) and basic adaptive cruise control, which uses sensors and braking to maintain a selectable distance from the car ahead up to your set speed. (In the U.S., adaptive cruise control dates back to the 2000 Mercedes-Benz S-Class; it was limited for a time to luxury cars.) \\r\\n\\r\\nAdaptive cruise that maintains a set distance at highway speeds now is widely available, but systems that also function at lower speeds and can bring you to a full stop are increasingly available. Some full-speed systems will bring you to a stop in traffic, then require you to apply the brakes and reaccelerate afterward. Others can hold the vehicle at the stop and resume speed when the car ahead starts moving again (up to a given time limit). The systems use sensors such as radar, ultrasound, cameras or a combination. And the most advanced of these systems donâ€™t just monitor the vehicle directly ahead but look beyond it.\\r\\n\\r\\nLane-Centering Steering\\r\\nThis is not to be confused with lane departure steering assist, which nudges you back when you drift toward lane markings â€” and often pinballs you toward the opposite side of the lane. True lane centering tracks lane markings or the vehicle ahead, or both, and actively centers your vehicle in its lane. Almost all such systems require you to keep your hands on the wheel. Theyâ€™ll warn you and eventually shut off if its sensors detect your hands are off for more than a brief time. Lane-centering steering systems also will deactivate if lane markings disappear, such as with construction zones, merging lanes or bad weather. Most such systems now work from a stop up to highway speeds, but some more basic systems function only above or below certain speeds.\\r\\n\\r\\nHands-Free Steering\\r\\nThese systems center the car within the lane without requiring your hands on the wheel. For 2021, three systems â€” Cadillacâ€™s Super Cruise, BMWâ€™s Extended Traffic Jam Assistant and Fordâ€™s Active Drive Assist â€” currently allow this or will enable it within the model year. But these systems still require your eyes on the road, and they verify this using interior cameras that watch you. The BMW system is designed, as its name suggests, for low-speed (under 40 mph) congestion on highways. The Cadillac and most others allow full-speed use, but only on pre-mapped, limited-access freeways in the U.S. and Canada using GPS and cloud-based map data. While Ford will be the first mainstream brand to offer such a system, Nissan will join with the rollout of its new Ariya electric SUV, coming first in Japan and expected in the U.S. in late 2021 with ProPilot Assist 2.0. Jeep also has a system coming for the 2022 Grand Cherokee L. And GM, the automaker behind Buick, Cadillac, Chevrolet and GMC, plans to expand Super Cruise beyond Cadillac beginning with the 2022 model year.\\r\\n\\r\\nEyes-Free Driving\\r\\nAttention-free driving in a commercially available car isnâ€™t here yet. The first production car to allow limited eyes-free driving under certain low-speed conditions (and you still had to be ready to take over) was to be the latest generation of Audiâ€™s flagship A8 sedan with a Traffic Jam Pilot system using some two dozen camera, radar, sonic and laser sensors. It would have been a first step toward the next level of autonomy, but U.S. and global regulatory delays stalled the rollout and Audi has reportedly dropped the plan. \\r\\n\\r\\n\\r\\n\\r\\n\\r\\n'"
      ]
     },
     "execution_count": 4,
     "metadata": {},
     "output_type": "execute_result"
    }
   ],
   "source": [
    "df.loc[1]['Content']"
   ]
  },
  {
   "cell_type": "code",
   "execution_count": 5,
   "id": "015e4c11",
   "metadata": {},
   "outputs": [],
   "source": [
    "# \\r and \\n\n",
    "df['Content_Parsed_1'] = df['Content'].str.replace(\"\\r\", \" \")\n",
    "df['Content_Parsed_1'] = df['Content_Parsed_1'].str.replace(\"\\n\", \" \")\n",
    "df['Content_Parsed_1'] = df['Content_Parsed_1'].str.replace(\"    \", \" \")"
   ]
  },
  {
   "cell_type": "code",
   "execution_count": 6,
   "id": "ac653ecd",
   "metadata": {},
   "outputs": [
    {
     "data": {
      "text/plain": [
       "\"Mr Greenspan's\""
      ]
     },
     "execution_count": 6,
     "metadata": {},
     "output_type": "execute_result"
    }
   ],
   "source": [
    "text = \"Mr Greenspan\\'s\"\n",
    "text"
   ]
  },
  {
   "cell_type": "code",
   "execution_count": 7,
   "id": "6b2c5e03",
   "metadata": {},
   "outputs": [],
   "source": [
    "# \" when quoting text\n",
    "df['Content_Parsed_1'] = df['Content_Parsed_1'].str.replace('\"', '')"
   ]
  },
  {
   "cell_type": "code",
   "execution_count": 8,
   "id": "cf71afdd",
   "metadata": {},
   "outputs": [],
   "source": [
    "# Lowercasing the text\n",
    "df['Content_Parsed_2'] = df['Content_Parsed_1'].str.lower()"
   ]
  },
  {
   "cell_type": "code",
   "execution_count": 9,
   "id": "3a26e2bb",
   "metadata": {},
   "outputs": [
    {
     "name": "stderr",
     "output_type": "stream",
     "text": [
      "<ipython-input-9-cdceb98d92a9>:5: FutureWarning: The default value of regex will change from True to False in a future version. In addition, single character regular expressions will*not* be treated as literal strings when regex=True.\n",
      "  df['Content_Parsed_3'] = df['Content_Parsed_3'].str.replace(punct_sign, '')\n"
     ]
    }
   ],
   "source": [
    "punctuation_signs = list(\"?:!.,;\")\n",
    "df['Content_Parsed_3'] = df['Content_Parsed_2']\n",
    "\n",
    "for punct_sign in punctuation_signs:\n",
    "    df['Content_Parsed_3'] = df['Content_Parsed_3'].str.replace(punct_sign, '')"
   ]
  },
  {
   "cell_type": "code",
   "execution_count": 10,
   "id": "e769751b",
   "metadata": {},
   "outputs": [],
   "source": [
    "df['Content_Parsed_4'] = df['Content_Parsed_3'].str.replace(\"'s\", \"\")"
   ]
  },
  {
   "cell_type": "code",
   "execution_count": 11,
   "id": "e39d15e4",
   "metadata": {},
   "outputs": [
    {
     "name": "stdout",
     "output_type": "stream",
     "text": [
      "------------------------------------------------------------\n"
     ]
    },
    {
     "name": "stderr",
     "output_type": "stream",
     "text": [
      "[nltk_data] Downloading package punkt to\n",
      "[nltk_data]     C:\\Users\\trela\\AppData\\Roaming\\nltk_data...\n",
      "[nltk_data]   Package punkt is already up-to-date!\n",
      "[nltk_data] Downloading package wordnet to\n",
      "[nltk_data]     C:\\Users\\trela\\AppData\\Roaming\\nltk_data...\n",
      "[nltk_data]   Package wordnet is already up-to-date!\n"
     ]
    },
    {
     "data": {
      "text/plain": [
       "True"
      ]
     },
     "execution_count": 11,
     "metadata": {},
     "output_type": "execute_result"
    }
   ],
   "source": [
    "# Downloading punkt and wordnet from NLTK\n",
    "nltk.download('punkt')\n",
    "print(\"------------------------------------------------------------\")\n",
    "nltk.download('wordnet')"
   ]
  },
  {
   "cell_type": "code",
   "execution_count": 12,
   "id": "5880c9d2",
   "metadata": {},
   "outputs": [],
   "source": [
    "# Saving the lemmatizer into an object\n",
    "wordnet_lemmatizer = WordNetLemmatizer()"
   ]
  },
  {
   "cell_type": "code",
   "execution_count": 13,
   "id": "b6f97588",
   "metadata": {},
   "outputs": [],
   "source": [
    "nrows = len(df)\n",
    "lemmatized_text_list = []\n",
    "\n",
    "for row in range(0, nrows):\n",
    "    \n",
    "    # Create an empty list containing lemmatized words\n",
    "    lemmatized_list = []\n",
    "    \n",
    "    # Save the text and its words into an object\n",
    "    text = df.loc[row]['Content_Parsed_4']\n",
    "    text_words = text.split(\" \")\n",
    "\n",
    "    # Iterate through every word to lemmatize\n",
    "    for word in text_words:\n",
    "        lemmatized_list.append(wordnet_lemmatizer.lemmatize(word, pos=\"v\"))\n",
    "        \n",
    "    # Join the list\n",
    "    lemmatized_text = \" \".join(lemmatized_list)\n",
    "    \n",
    "    # Append to the list containing the texts\n",
    "    lemmatized_text_list.append(lemmatized_text)"
   ]
  },
  {
   "cell_type": "code",
   "execution_count": 14,
   "id": "8f563c65",
   "metadata": {},
   "outputs": [],
   "source": [
    "df['Content_Parsed_5'] = lemmatized_text_list"
   ]
  },
  {
   "cell_type": "code",
   "execution_count": 15,
   "id": "ab047ff8",
   "metadata": {},
   "outputs": [
    {
     "name": "stderr",
     "output_type": "stream",
     "text": [
      "[nltk_data] Downloading package stopwords to\n",
      "[nltk_data]     C:\\Users\\trela\\AppData\\Roaming\\nltk_data...\n",
      "[nltk_data]   Package stopwords is already up-to-date!\n"
     ]
    },
    {
     "data": {
      "text/plain": [
       "True"
      ]
     },
     "execution_count": 15,
     "metadata": {},
     "output_type": "execute_result"
    }
   ],
   "source": [
    "# Downloading the stop words list\n",
    "nltk.download('stopwords')"
   ]
  },
  {
   "cell_type": "code",
   "execution_count": 16,
   "id": "8e0b8f53",
   "metadata": {},
   "outputs": [],
   "source": [
    "# Loading the stop words in english\n",
    "stop_words = list(stopwords.words('english'))"
   ]
  },
  {
   "cell_type": "code",
   "execution_count": 17,
   "id": "314ce4db",
   "metadata": {},
   "outputs": [
    {
     "data": {
      "text/plain": [
       "['i', 'me', 'my', 'myself', 'we', 'our', 'ours', 'ourselves', 'you', \"you're\"]"
      ]
     },
     "execution_count": 17,
     "metadata": {},
     "output_type": "execute_result"
    }
   ],
   "source": [
    "stop_words[0:10]"
   ]
  },
  {
   "cell_type": "code",
   "execution_count": 18,
   "id": "da6db99f",
   "metadata": {},
   "outputs": [
    {
     "data": {
      "text/plain": [
       "'StopWord eating a meal'"
      ]
     },
     "execution_count": 18,
     "metadata": {},
     "output_type": "execute_result"
    }
   ],
   "source": [
    "example = \"me eating a meal\"\n",
    "word = \"me\"\n",
    "\n",
    "# The regular expression is:\n",
    "regex = r\"\\b\" + word + r\"\\b\"  # we need to build it like that to work properly\n",
    "\n",
    "re.sub(regex, \"StopWord\", example)"
   ]
  },
  {
   "cell_type": "code",
   "execution_count": 19,
   "id": "dce3c0e7",
   "metadata": {},
   "outputs": [
    {
     "name": "stderr",
     "output_type": "stream",
     "text": [
      "<ipython-input-19-0bfa395c13ef>:7: FutureWarning: The default value of regex will change from True to False in a future version.\n",
      "  df['Content_Parsed_6'] = df['Content_Parsed_6'].str.replace(regex_stopword, '')\n"
     ]
    }
   ],
   "source": [
    "df['Content_Parsed_6'] = df['Content_Parsed_5']\n",
    "\n",
    "regex = True    ## [ADDED for future-proofing change in default boolean value]\n",
    "for stop_word in stop_words:\n",
    "\n",
    "    regex_stopword = r\"\\b\" + stop_word + r\"\\b\"\n",
    "    df['Content_Parsed_6'] = df['Content_Parsed_6'].str.replace(regex_stopword, '')"
   ]
  },
  {
   "cell_type": "code",
   "execution_count": 20,
   "id": "aec3ab5b",
   "metadata": {},
   "outputs": [
    {
     "data": {
      "text/plain": [
       "\"How Google's Self-Driving Car Will Change Everything\\r\\n\\r\\nImagine getting into your car, typingâ€”or, better yet speakingâ€”a location into your vehicleâ€™s interface, then letting it drive you to your destination while you read a book, surf the web, or nap. Self-driving vehiclesâ€”the stuff of science fiction since the first roads were pavedâ€”are coming, and theyâ€™re going to radically change what itâ€™s like to get from point A to point B.\\r\\n\\r\\nIn 2009, Google started the self-driving car project with the goal of driving autonomously over ten uninterrupted 100-mile routes. In 2016, Waymo, an autonomous driving technology company, became a subsidiary of Alphabet, and Google's self-driving project became Waymo.\\r\\n\\r\\nSince then, Waymo has invited the public to join the first public trial of autonomous vehicles operated by the Waymo Driver and introduced its first fully autonomous vehicles operated by the Waymo Driver on public roads without anyone in the driverâ€™s seat.\\r\\n\\r\\nKEY TAKEAWAYS\\r\\nThe hype around driverless cars has grown rapidly over the past several years, with many big technology companies getting behind the concept.\\r\\nGoogle launched its Waymo division to develop and market consumer-ready driverless vehicles around the globe.\\r\\nThe company, along with several others in the tech and auto industries, is betting that driverless cars will soon change the way we get around in a major way.\\r\\nAmong the revolutionary changes will be safer roads, fewer fossil fuels, and lower transportation costs.\\r\\nBasic Technology Already In Use\\r\\nâ€œThe building blocks of driverless cars are on the road now,â€\\x9d explained Russ Rader, senior vice president of communications at the Insurance Institute for Highway Safety1ï»¿. He pointed to the front-crash prevention systems that for several years have been able to warn drivers of an impending obstacle and apply the brakes if they donâ€™t react fast enough.\\r\\n\\r\\nThese systems were quickly followed by technology that allows cars to self-park by sizing up a free spot and automatically steering into it, with the driver only controlling the accelerator and brake pedals. Mercedes-Benz took autonomous driving even further when they introduced Drive Pilot, which allows the driver to hand over direct control of steering and speed in certain circumstances, while still supervising the overall operation of the car.2ï»¿\\r\\n\\r\\nIn 2018, Waymo announced that they would be making self-driving cars available by 2020. However, despite some extraordinary advancements, in the year 2020, self-driving cars are still out of reach, except in some trial programs.3ï»¿ The current technology on the market is limited to cars that will automatically brake for you if they anticipate a collision, cars that help keep you in your lane, and cars that can mostly handle highway driving.\\r\\n\\r\\nThe idea behind self-driving cars is fairly simple: build a car with cameras that can track all the objects around it. The car should react if itâ€™s about to steer into one. And once in-car computers know all driving rules, they should be able to navigate to their destination. In the end, you might say that the execution of these ideas has been more complicated than was anticipated.\\r\\n\\r\\nWaymo's cars, the leader in self-driving technology, use high-resolution cameras and lidar (light detection and ranging, which is a way of estimating the distance to another object by bouncing light and sound off things). This technology helps the self-driving car identify where other cars, cyclists, pedestrians, and obstacles are and where theyâ€™re moving.4ï»¿\\r\\n\\r\\nA Drastic Change\\r\\nWith the adoption of any new revolutionary technology, it is predicted there will be problems for businesses that donâ€™t adjust fast enough to future developments in self-driving car technology. Futurists estimate that hundreds of billions of dollars (if not trillions) will be lost by automakers, suppliers, dealers, insurers, parking companies, and many other car-related enterprises. And think of the lost revenue for governments via licensing fees, taxes and tolls, and by personal injury lawyers and health insurers.\\r\\n\\r\\nWho needs a car made with heavier-gauge steel and eight airbags (not to mention a body shop) if accidents are so rare? Who needs a parking spot close to work if your car can drive you there, park itself miles away, only to pick you up later? Who needs to buy a flight from Boston to Cleveland when you can leave in the evening, sleep much of the way, and arrive in the morning?\\r\\n\\r\\nIndeed, one of Googleâ€™s goals is to facilitate car-sharing.5ï»¿ That means fewer cars on the road. Fewer cars, period. Who needs to own a car when you can just order a shared one and itâ€™ll drive up minutes later, ready to take you wherever you want?\\r\\n\\r\\nâ€œThis [has the potential to] dramatically reduce the number of cars on the street, 80% of which have people driving alone in them, and also a household's cost of transportation, which is 18% of their incomeâ€”around $9,000 a yearâ€”for an asset that they use only 5% of the time,â€\\x9d said Robin Chase, the founder and CEO of Buzzcar, a peer-to-peer car-sharing service, and co-founder and former CEO of Zipcar.\\r\\n\\r\\nIn 2030, self-driving cars are expected to create $87 billion worth of opportunities for automakers and technology developers, said a report by Boston-based Lux Research.6ï»¿ Software developers stand to win big.\\r\\n\\r\\nA Manufacturing Revolution\\r\\nIf youâ€™re an automaker, such as Ford Motor Co. (F), General Motors Co. (GM), Chrysler Group LLC, Toyota Motor Corp. or Honda Motor Co., Ltd. (HMC), which account for almost 70% of the U.S. market, you could see an initial surge in the $600 billion in annual new and used car sales globally.7ï»¿ 8ï»¿ But as soon as the technology takes hold, sales could fall off significantly as sharing popularizes.\\r\\n\\r\\nCars will always need steel, glass, an interior, a drivetrain, and some form of human interface (even if that interface is little more than a wireless connection to your smartphone). But much of everything else could change. As an example, take front-facing seats; they could become an option, not a requirement. Automakers that see the changes comingâ€”such as how the big profits are secured downstream by car servicers, insurers, and moreâ€”are focusing on services as much as on what and how they manufacture.\\r\\n\\r\\nInfrastructure Transformation\\r\\nWith fewer cars around, parking lots and spaces that cover roughly one-third of the land area of many U.S. cities can be repurposed. That could mean temporary downward pressure on real estate values as supply increases. It could also mean greener urban areas and revitalized suburbs if longer commutes become more palatable. And if fewer cars are on the road, federal, state, and local government agencies may be able to reallocate a good portion of the roughly $180 billion spent annually on highways and roads.9ï»¿\\r\\n\\r\\nChanging Oil Demand\\r\\nIf youâ€™re in the business of finding, extracting, refining, and marketing hydrocarbons, such as Exxon Mobil (EOX), Chevron (CVX), or BP (BP), you could see your business fluctuate as use changes.\\r\\n\\r\\nâ€œThese vehicles should practice very efficient eco-driving practices, which is typically about 20% better than the average driver,â€\\x9d said Chase. â€œOn the other hand, if these cars are owned by individuals, I see a huge rise in the number of trips, and vehicle miles traveled. People will send out their car to run errands they would never do if they had to be in the car and waste their own time. If the autonomous cars are shared vehicles and people pay for each trip, I think this will reduce demand, and thus (vehicle miles traveled).â€\\x9d\\r\\n\\r\\nSafety Dividend\\r\\nAutonomous vehicles are also expected to be safer. â€œThese cars won't get drunk or high, drive too fast, or take unnecessary risksâ€”things people do all the time,â€\\x9d Chase said.\\r\\n\\r\\nâ€œOver 90% of accidents today are caused by driver error,â€\\x9d said Professor Robert W. Peterson of the Center for Insurance Law and Regulation at Santa Clara University School of Law. â€œThere is every reason to believe that self-driving cars will reduce the frequency and severity of accidents, so insurance costs should fall, perhaps dramatically.â€\\x9d10ï»¿\\r\\n\\r\\nâ€œCars can still get flooded, damaged, or stolen,â€\\x9d notes Michael Barry, vice president of media relations at the Insurance Information Institute. â€œBut this technology will have a dramatic impact on underwriting. A lot of traditional underwriting criteria will be upended.â€\\x9d11ï»¿\\r\\n\\r\\nBarry said itâ€™s too early to quantify exactly how self-driving vehicles will affect rates, but added that injured parties in a crash involving a self-driving car may choose to sue the vehicleâ€™s manufacturer or the software company that designed the autonomous capability.\\r\\n\\r\\nInitially, insurers such as State Farm Insurance, Allstate Corp. (ALL), Liberty Mutual Group, Berkshire Hathaway Inc.â€™s (BRK-A) GEICO, Citigroup Inc.â€™s (C) Travelers Group could see a huge benefit from lower accident liabilities. But they may wind up losing a big portion of the $200 billion in personal auto premiums they write every year as fewer cars take to the road.\\r\\n\\r\\nSome experts have even speculated that mandatory insurance for cars could be dropped. And as long as weâ€™re talking about financial services, what about the multitude of banks and creditors that lend buyers money in about 85% of car purchases if sales volume falls?12ï»¿\\r\\n\\r\\nAccording to a University of Texas report, if only 10% of the cars on U.S. roads were autonomous, almost $30 billion of savings could be realized via less wasted time and fuel, as well as fewer injuries and deaths. At 90%, the benefit rises to almost $120 billion a year.13ï»¿\\r\\n\\r\\nCloser to Home\\r\\nSelf-driving cars could have a substantial impact on the taxi and limousine industries and could potentially create new ones. Chase noted that they could be used to share specific trips, as a kind of pay-as-you-go small-scale public transportationâ€”for example, taking a disparate bunch of Manhattanites to the same beach in the Hamptons in one trip.\\r\\n\\r\\nOne study found that a fleet of 9,000 driverless taxis could serve all of Manhattan at about $0.50 per mile (compared to about $5 per mile now). At the time the study was published, there were licenses for over 13,000 taxis in New York City.14ï»¿\\r\\n\\r\\nSelf-driving cars may also challenge train lines. â€œA self-driving car offers much of the convenience of rail service with the added convenience that the service is portal-to-portal rather than station-to-station,â€\\x9d Peterson said.\\r\\n\\r\\nâ€œOn the other hand, a fleet of self-driving cars available at the station may make rail service more palatable. â€œThe technology has already been adopted in closed systems, such as campuses, air-terminals, and mining,â€\\x9d he noted. â€œRio Tinto Group (RIO), a large mining company, uses enormous self-driving trucks in its mining operations. European countries are experimenting with the platooning of trucks. Among other things, this saves about 18% in fuel.â€\\x9d\\r\\n\\r\\nRisks and Hurdles\\r\\nThere are regulatory and legislative obstacles to the widespread use of self-driving cars and substantial concerns about privacy. (Who will have access to any driving information these vehicles store?) Thereâ€™s also the question of security, as hackers could theoretically take control of these vehicles, and are not known for their restraint or civic-mindedness.\\r\\n\\r\\nThe Future of Waymo\\r\\nIn March 2020, Waymo Via, the trucking division of Waymo, was launched. According to Google, since 2017 Waymo Driver had been learning to drive large Class 8 trucks in the same way that it had learned how to drive passenger vehicles. Waymo is currently testing its fleet of trucks in California, Arizona, New Mexico, and Texas, and has launched a pilot program for local delivery in the Phoenix, Arizona area.15ï»¿\\r\\n\\r\\nWaymo has partnerships with multiple vehicle manufacturers to integrate its technology. In October 2020, Waymo and Daimler Trucks partnered to create an autonomous version of the Freightliner Cascadia truck. This is Waymo's first foray into the freight industry. Daimler's trucks will be equipped with autonomous technology that allows them to drive without a human but only in pre-defined areas.16ï»¿\\r\\n\\r\\nGoogleâ€™s Self-Driving Car FAQs\\r\\nIs Google Making a Car?\\r\\nGoogle has made it clear that it has no plans to build cars itself. Waymo is a self-driving technology company; it does not intend to manufacture and sell its own line of vehicles.\\r\\n\\r\\nWhat Year Will There Be Self-Driving Cars?\\r\\nEarly estimates about self-driving cars being the norm by 2020 have turned into having a few research vehicles on the road by 2020. Even if the technology is not developing as fast as expected, computer-processing capabilities and sophisticated artificial intelligence systems are becoming more advanced and more affordable every year. It's not clear when all the pieces will truly fall into place to allow for driverless technologies to safely navigate public roads among traditional cars. While experts agree that there will be a time in the future when this is true, they disagree on the timeline.\\r\\n\\r\\nHow Much Does the Google Car Cost?\\r\\nGoogle does not manufacture or sell its own cars. However, you can purchase a semi-autonomous Honda Civic that comes with advanced driver assistance systems (ADAS) that control the steering, lane changing, acceleration, and braking while the car is cruising on the highway. You can also purchase a Tesla Motors vehicle that comes equipped with its semi-autonomous Autopilot feature.\\r\\n\\r\\nThe Bottom Line\\r\\nHowever it plays out, these vehicles are comingâ€”and fast. Their full adoption will take decades, but their convenience, cost, safety, and other factors will make them ubiquitous and indispensable. Such as with any technological revolution, the companies that plan ahead, adjust the fastest, and imagine the biggest will survive and thrive. And companies invested in old technology and practices will need to evolve or risk dying.\""
      ]
     },
     "execution_count": 20,
     "metadata": {},
     "output_type": "execute_result"
    }
   ],
   "source": [
    "df.loc[5]['Content']"
   ]
  },
  {
   "cell_type": "code",
   "execution_count": 21,
   "id": "686b7cd7",
   "metadata": {},
   "outputs": [
    {
     "data": {
      "text/plain": [
       "\"How Google's Self-Driving Car Will Change Everything Imagine getting into your car, typingâ€”or, better yet speakingâ€”a location into your vehicleâ€™s interface, then letting it drive you to your destination while you read a book, surf the web, or nap. Self-driving vehiclesâ€”the stuff of science fiction since the first roads were pavedâ€”are coming, and theyâ€™re going to radically change what itâ€™s like to get from point A to point B. In 2009, Google started the self-driving car project with the goal of driving autonomously over ten uninterrupted 100-mile routes. In 2016, Waymo, an autonomous driving technology company, became a subsidiary of Alphabet, and Google's self-driving project became Waymo. Since then, Waymo has invited the public to join the first public trial of autonomous vehicles operated by the Waymo Driver and introduced its first fully autonomous vehicles operated by the Waymo Driver on public roads without anyone in the driverâ€™s seat. KEY TAKEAWAYS  The hype around driverless cars has grown rapidly over the past several years, with many big technology companies getting behind the concept.  Google launched its Waymo division to develop and market consumer-ready driverless vehicles around the globe.  The company, along with several others in the tech and auto industries, is betting that driverless cars will soon change the way we get around in a major way.  Among the revolutionary changes will be safer roads, fewer fossil fuels, and lower transportation costs.  Basic Technology Already In Use  â€œThe building blocks of driverless cars are on the road now,â€\\x9d explained Russ Rader, senior vice president of communications at the Insurance Institute for Highway Safety1ï»¿. He pointed to the front-crash prevention systems that for several years have been able to warn drivers of an impending obstacle and apply the brakes if they donâ€™t react fast enough. These systems were quickly followed by technology that allows cars to self-park by sizing up a free spot and automatically steering into it, with the driver only controlling the accelerator and brake pedals. Mercedes-Benz took autonomous driving even further when they introduced Drive Pilot, which allows the driver to hand over direct control of steering and speed in certain circumstances, while still supervising the overall operation of the car.2ï»¿ In 2018, Waymo announced that they would be making self-driving cars available by 2020. However, despite some extraordinary advancements, in the year 2020, self-driving cars are still out of reach, except in some trial programs.3ï»¿ The current technology on the market is limited to cars that will automatically brake for you if they anticipate a collision, cars that help keep you in your lane, and cars that can mostly handle highway driving. The idea behind self-driving cars is fairly simple: build a car with cameras that can track all the objects around it. The car should react if itâ€™s about to steer into one. And once in-car computers know all driving rules, they should be able to navigate to their destination. In the end, you might say that the execution of these ideas has been more complicated than was anticipated. Waymo's cars, the leader in self-driving technology, use high-resolution cameras and lidar (light detection and ranging, which is a way of estimating the distance to another object by bouncing light and sound off things). This technology helps the self-driving car identify where other cars, cyclists, pedestrians, and obstacles are and where theyâ€™re moving.4ï»¿ A Drastic Change  With the adoption of any new revolutionary technology, it is predicted there will be problems for businesses that donâ€™t adjust fast enough to future developments in self-driving car technology. Futurists estimate that hundreds of billions of dollars (if not trillions) will be lost by automakers, suppliers, dealers, insurers, parking companies, and many other car-related enterprises. And think of the lost revenue for governments via licensing fees, taxes and tolls, and by personal injury lawyers and health insurers. Who needs a car made with heavier-gauge steel and eight airbags (not to mention a body shop) if accidents are so rare? Who needs a parking spot close to work if your car can drive you there, park itself miles away, only to pick you up later? Who needs to buy a flight from Boston to Cleveland when you can leave in the evening, sleep much of the way, and arrive in the morning? Indeed, one of Googleâ€™s goals is to facilitate car-sharing.5ï»¿ That means fewer cars on the road. Fewer cars, period. Who needs to own a car when you can just order a shared one and itâ€™ll drive up minutes later, ready to take you wherever you want? â€œThis [has the potential to] dramatically reduce the number of cars on the street, 80% of which have people driving alone in them, and also a household's cost of transportation, which is 18% of their incomeâ€”around $9,000 a yearâ€”for an asset that they use only 5% of the time,â€\\x9d said Robin Chase, the founder and CEO of Buzzcar, a peer-to-peer car-sharing service, and co-founder and former CEO of Zipcar. In 2030, self-driving cars are expected to create $87 billion worth of opportunities for automakers and technology developers, said a report by Boston-based Lux Research.6ï»¿ Software developers stand to win big. A Manufacturing Revolution  If youâ€™re an automaker, such as Ford Motor Co. (F), General Motors Co. (GM), Chrysler Group LLC, Toyota Motor Corp. or Honda Motor Co., Ltd. (HMC), which account for almost 70% of the U.S. market, you could see an initial surge in the $600 billion in annual new and used car sales globally.7ï»¿ 8ï»¿ But as soon as the technology takes hold, sales could fall off significantly as sharing popularizes. Cars will always need steel, glass, an interior, a drivetrain, and some form of human interface (even if that interface is little more than a wireless connection to your smartphone). But much of everything else could change. As an example, take front-facing seats; they could become an option, not a requirement. Automakers that see the changes comingâ€”such as how the big profits are secured downstream by car servicers, insurers, and moreâ€”are focusing on services as much as on what and how they manufacture. Infrastructure Transformation  With fewer cars around, parking lots and spaces that cover roughly one-third of the land area of many U.S. cities can be repurposed. That could mean temporary downward pressure on real estate values as supply increases. It could also mean greener urban areas and revitalized suburbs if longer commutes become more palatable. And if fewer cars are on the road, federal, state, and local government agencies may be able to reallocate a good portion of the roughly $180 billion spent annually on highways and roads.9ï»¿ Changing Oil Demand  If youâ€™re in the business of finding, extracting, refining, and marketing hydrocarbons, such as Exxon Mobil (EOX), Chevron (CVX), or BP (BP), you could see your business fluctuate as use changes. â€œThese vehicles should practice very efficient eco-driving practices, which is typically about 20% better than the average driver,â€\\x9d said Chase. â€œOn the other hand, if these cars are owned by individuals, I see a huge rise in the number of trips, and vehicle miles traveled. People will send out their car to run errands they would never do if they had to be in the car and waste their own time. If the autonomous cars are shared vehicles and people pay for each trip, I think this will reduce demand, and thus (vehicle miles traveled).â€\\x9d Safety Dividend  Autonomous vehicles are also expected to be safer. â€œThese cars won't get drunk or high, drive too fast, or take unnecessary risksâ€”things people do all the time,â€\\x9d Chase said. â€œOver 90% of accidents today are caused by driver error,â€\\x9d said Professor Robert W. Peterson of the Center for Insurance Law and Regulation at Santa Clara University School of Law. â€œThere is every reason to believe that self-driving cars will reduce the frequency and severity of accidents, so insurance costs should fall, perhaps dramatically.â€\\x9d10ï»¿ â€œCars can still get flooded, damaged, or stolen,â€\\x9d notes Michael Barry, vice president of media relations at the Insurance Information Institute. â€œBut this technology will have a dramatic impact on underwriting. A lot of traditional underwriting criteria will be upended.â€\\x9d11ï»¿ Barry said itâ€™s too early to quantify exactly how self-driving vehicles will affect rates, but added that injured parties in a crash involving a self-driving car may choose to sue the vehicleâ€™s manufacturer or the software company that designed the autonomous capability. Initially, insurers such as State Farm Insurance, Allstate Corp. (ALL), Liberty Mutual Group, Berkshire Hathaway Inc.â€™s (BRK-A) GEICO, Citigroup Inc.â€™s (C) Travelers Group could see a huge benefit from lower accident liabilities. But they may wind up losing a big portion of the $200 billion in personal auto premiums they write every year as fewer cars take to the road. Some experts have even speculated that mandatory insurance for cars could be dropped. And as long as weâ€™re talking about financial services, what about the multitude of banks and creditors that lend buyers money in about 85% of car purchases if sales volume falls?12ï»¿ According to a University of Texas report, if only 10% of the cars on U.S. roads were autonomous, almost $30 billion of savings could be realized via less wasted time and fuel, as well as fewer injuries and deaths. At 90%, the benefit rises to almost $120 billion a year.13ï»¿ Closer to Home  Self-driving cars could have a substantial impact on the taxi and limousine industries and could potentially create new ones. Chase noted that they could be used to share specific trips, as a kind of pay-as-you-go small-scale public transportationâ€”for example, taking a disparate bunch of Manhattanites to the same beach in the Hamptons in one trip. One study found that a fleet of 9,000 driverless taxis could serve all of Manhattan at about $0.50 per mile (compared to about $5 per mile now). At the time the study was published, there were licenses for over 13,000 taxis in New York City.14ï»¿ Self-driving cars may also challenge train lines. â€œA self-driving car offers much of the convenience of rail service with the added convenience that the service is portal-to-portal rather than station-to-station,â€\\x9d Peterson said. â€œOn the other hand, a fleet of self-driving cars available at the station may make rail service more palatable. â€œThe technology has already been adopted in closed systems, such as campuses, air-terminals, and mining,â€\\x9d he noted. â€œRio Tinto Group (RIO), a large mining company, uses enormous self-driving trucks in its mining operations. European countries are experimenting with the platooning of trucks. Among other things, this saves about 18% in fuel.â€\\x9d Risks and Hurdles  There are regulatory and legislative obstacles to the widespread use of self-driving cars and substantial concerns about privacy. (Who will have access to any driving information these vehicles store?) Thereâ€™s also the question of security, as hackers could theoretically take control of these vehicles, and are not known for their restraint or civic-mindedness. The Future of Waymo  In March 2020, Waymo Via, the trucking division of Waymo, was launched. According to Google, since 2017 Waymo Driver had been learning to drive large Class 8 trucks in the same way that it had learned how to drive passenger vehicles. Waymo is currently testing its fleet of trucks in California, Arizona, New Mexico, and Texas, and has launched a pilot program for local delivery in the Phoenix, Arizona area.15ï»¿ Waymo has partnerships with multiple vehicle manufacturers to integrate its technology. In October 2020, Waymo and Daimler Trucks partnered to create an autonomous version of the Freightliner Cascadia truck. This is Waymo's first foray into the freight industry. Daimler's trucks will be equipped with autonomous technology that allows them to drive without a human but only in pre-defined areas.16ï»¿ Googleâ€™s Self-Driving Car FAQs  Is Google Making a Car?  Google has made it clear that it has no plans to build cars itself. Waymo is a self-driving technology company; it does not intend to manufacture and sell its own line of vehicles. What Year Will There Be Self-Driving Cars?  Early estimates about self-driving cars being the norm by 2020 have turned into having a few research vehicles on the road by 2020. Even if the technology is not developing as fast as expected, computer-processing capabilities and sophisticated artificial intelligence systems are becoming more advanced and more affordable every year. It's not clear when all the pieces will truly fall into place to allow for driverless technologies to safely navigate public roads among traditional cars. While experts agree that there will be a time in the future when this is true, they disagree on the timeline. How Much Does the Google Car Cost?  Google does not manufacture or sell its own cars. However, you can purchase a semi-autonomous Honda Civic that comes with advanced driver assistance systems (ADAS) that control the steering, lane changing, acceleration, and braking while the car is cruising on the highway. You can also purchase a Tesla Motors vehicle that comes equipped with its semi-autonomous Autopilot feature. The Bottom Line  However it plays out, these vehicles are comingâ€”and fast. Their full adoption will take decades, but their convenience, cost, safety, and other factors will make them ubiquitous and indispensable. Such as with any technological revolution, the companies that plan ahead, adjust the fastest, and imagine the biggest will survive and thrive. And companies invested in old technology and practices will need to evolve or risk dying.\""
      ]
     },
     "execution_count": 21,
     "metadata": {},
     "output_type": "execute_result"
    }
   ],
   "source": [
    "df.loc[5]['Content_Parsed_1']"
   ]
  },
  {
   "cell_type": "code",
   "execution_count": 22,
   "id": "e6331219",
   "metadata": {},
   "outputs": [
    {
     "data": {
      "text/plain": [
       "\"how google's self-driving car will change everything imagine getting into your car, typingâ€”or, better yet speakingâ€”a location into your vehicleâ€™s interface, then letting it drive you to your destination while you read a book, surf the web, or nap. self-driving vehiclesâ€”the stuff of science fiction since the first roads were pavedâ€”are coming, and theyâ€™re going to radically change what itâ€™s like to get from point a to point b. in 2009, google started the self-driving car project with the goal of driving autonomously over ten uninterrupted 100-mile routes. in 2016, waymo, an autonomous driving technology company, became a subsidiary of alphabet, and google's self-driving project became waymo. since then, waymo has invited the public to join the first public trial of autonomous vehicles operated by the waymo driver and introduced its first fully autonomous vehicles operated by the waymo driver on public roads without anyone in the driverâ€™s seat. key takeaways  the hype around driverless cars has grown rapidly over the past several years, with many big technology companies getting behind the concept.  google launched its waymo division to develop and market consumer-ready driverless vehicles around the globe.  the company, along with several others in the tech and auto industries, is betting that driverless cars will soon change the way we get around in a major way.  among the revolutionary changes will be safer roads, fewer fossil fuels, and lower transportation costs.  basic technology already in use  â€œthe building blocks of driverless cars are on the road now,â€\\x9d explained russ rader, senior vice president of communications at the insurance institute for highway safety1ï»¿. he pointed to the front-crash prevention systems that for several years have been able to warn drivers of an impending obstacle and apply the brakes if they donâ€™t react fast enough. these systems were quickly followed by technology that allows cars to self-park by sizing up a free spot and automatically steering into it, with the driver only controlling the accelerator and brake pedals. mercedes-benz took autonomous driving even further when they introduced drive pilot, which allows the driver to hand over direct control of steering and speed in certain circumstances, while still supervising the overall operation of the car.2ï»¿ in 2018, waymo announced that they would be making self-driving cars available by 2020. however, despite some extraordinary advancements, in the year 2020, self-driving cars are still out of reach, except in some trial programs.3ï»¿ the current technology on the market is limited to cars that will automatically brake for you if they anticipate a collision, cars that help keep you in your lane, and cars that can mostly handle highway driving. the idea behind self-driving cars is fairly simple: build a car with cameras that can track all the objects around it. the car should react if itâ€™s about to steer into one. and once in-car computers know all driving rules, they should be able to navigate to their destination. in the end, you might say that the execution of these ideas has been more complicated than was anticipated. waymo's cars, the leader in self-driving technology, use high-resolution cameras and lidar (light detection and ranging, which is a way of estimating the distance to another object by bouncing light and sound off things). this technology helps the self-driving car identify where other cars, cyclists, pedestrians, and obstacles are and where theyâ€™re moving.4ï»¿ a drastic change  with the adoption of any new revolutionary technology, it is predicted there will be problems for businesses that donâ€™t adjust fast enough to future developments in self-driving car technology. futurists estimate that hundreds of billions of dollars (if not trillions) will be lost by automakers, suppliers, dealers, insurers, parking companies, and many other car-related enterprises. and think of the lost revenue for governments via licensing fees, taxes and tolls, and by personal injury lawyers and health insurers. who needs a car made with heavier-gauge steel and eight airbags (not to mention a body shop) if accidents are so rare? who needs a parking spot close to work if your car can drive you there, park itself miles away, only to pick you up later? who needs to buy a flight from boston to cleveland when you can leave in the evening, sleep much of the way, and arrive in the morning? indeed, one of googleâ€™s goals is to facilitate car-sharing.5ï»¿ that means fewer cars on the road. fewer cars, period. who needs to own a car when you can just order a shared one and itâ€™ll drive up minutes later, ready to take you wherever you want? â€œthis [has the potential to] dramatically reduce the number of cars on the street, 80% of which have people driving alone in them, and also a household's cost of transportation, which is 18% of their incomeâ€”around $9,000 a yearâ€”for an asset that they use only 5% of the time,â€\\x9d said robin chase, the founder and ceo of buzzcar, a peer-to-peer car-sharing service, and co-founder and former ceo of zipcar. in 2030, self-driving cars are expected to create $87 billion worth of opportunities for automakers and technology developers, said a report by boston-based lux research.6ï»¿ software developers stand to win big. a manufacturing revolution  if youâ€™re an automaker, such as ford motor co. (f), general motors co. (gm), chrysler group llc, toyota motor corp. or honda motor co., ltd. (hmc), which account for almost 70% of the u.s. market, you could see an initial surge in the $600 billion in annual new and used car sales globally.7ï»¿ 8ï»¿ but as soon as the technology takes hold, sales could fall off significantly as sharing popularizes. cars will always need steel, glass, an interior, a drivetrain, and some form of human interface (even if that interface is little more than a wireless connection to your smartphone). but much of everything else could change. as an example, take front-facing seats; they could become an option, not a requirement. automakers that see the changes comingâ€”such as how the big profits are secured downstream by car servicers, insurers, and moreâ€”are focusing on services as much as on what and how they manufacture. infrastructure transformation  with fewer cars around, parking lots and spaces that cover roughly one-third of the land area of many u.s. cities can be repurposed. that could mean temporary downward pressure on real estate values as supply increases. it could also mean greener urban areas and revitalized suburbs if longer commutes become more palatable. and if fewer cars are on the road, federal, state, and local government agencies may be able to reallocate a good portion of the roughly $180 billion spent annually on highways and roads.9ï»¿ changing oil demand  if youâ€™re in the business of finding, extracting, refining, and marketing hydrocarbons, such as exxon mobil (eox), chevron (cvx), or bp (bp), you could see your business fluctuate as use changes. â€œthese vehicles should practice very efficient eco-driving practices, which is typically about 20% better than the average driver,â€\\x9d said chase. â€œon the other hand, if these cars are owned by individuals, i see a huge rise in the number of trips, and vehicle miles traveled. people will send out their car to run errands they would never do if they had to be in the car and waste their own time. if the autonomous cars are shared vehicles and people pay for each trip, i think this will reduce demand, and thus (vehicle miles traveled).â€\\x9d safety dividend  autonomous vehicles are also expected to be safer. â€œthese cars won't get drunk or high, drive too fast, or take unnecessary risksâ€”things people do all the time,â€\\x9d chase said. â€œover 90% of accidents today are caused by driver error,â€\\x9d said professor robert w. peterson of the center for insurance law and regulation at santa clara university school of law. â€œthere is every reason to believe that self-driving cars will reduce the frequency and severity of accidents, so insurance costs should fall, perhaps dramatically.â€\\x9d10ï»¿ â€œcars can still get flooded, damaged, or stolen,â€\\x9d notes michael barry, vice president of media relations at the insurance information institute. â€œbut this technology will have a dramatic impact on underwriting. a lot of traditional underwriting criteria will be upended.â€\\x9d11ï»¿ barry said itâ€™s too early to quantify exactly how self-driving vehicles will affect rates, but added that injured parties in a crash involving a self-driving car may choose to sue the vehicleâ€™s manufacturer or the software company that designed the autonomous capability. initially, insurers such as state farm insurance, allstate corp. (all), liberty mutual group, berkshire hathaway inc.â€™s (brk-a) geico, citigroup inc.â€™s (c) travelers group could see a huge benefit from lower accident liabilities. but they may wind up losing a big portion of the $200 billion in personal auto premiums they write every year as fewer cars take to the road. some experts have even speculated that mandatory insurance for cars could be dropped. and as long as weâ€™re talking about financial services, what about the multitude of banks and creditors that lend buyers money in about 85% of car purchases if sales volume falls?12ï»¿ according to a university of texas report, if only 10% of the cars on u.s. roads were autonomous, almost $30 billion of savings could be realized via less wasted time and fuel, as well as fewer injuries and deaths. at 90%, the benefit rises to almost $120 billion a year.13ï»¿ closer to home  self-driving cars could have a substantial impact on the taxi and limousine industries and could potentially create new ones. chase noted that they could be used to share specific trips, as a kind of pay-as-you-go small-scale public transportationâ€”for example, taking a disparate bunch of manhattanites to the same beach in the hamptons in one trip. one study found that a fleet of 9,000 driverless taxis could serve all of manhattan at about $0.50 per mile (compared to about $5 per mile now). at the time the study was published, there were licenses for over 13,000 taxis in new york city.14ï»¿ self-driving cars may also challenge train lines. â€œa self-driving car offers much of the convenience of rail service with the added convenience that the service is portal-to-portal rather than station-to-station,â€\\x9d peterson said. â€œon the other hand, a fleet of self-driving cars available at the station may make rail service more palatable. â€œthe technology has already been adopted in closed systems, such as campuses, air-terminals, and mining,â€\\x9d he noted. â€œrio tinto group (rio), a large mining company, uses enormous self-driving trucks in its mining operations. european countries are experimenting with the platooning of trucks. among other things, this saves about 18% in fuel.â€\\x9d risks and hurdles  there are regulatory and legislative obstacles to the widespread use of self-driving cars and substantial concerns about privacy. (who will have access to any driving information these vehicles store?) thereâ€™s also the question of security, as hackers could theoretically take control of these vehicles, and are not known for their restraint or civic-mindedness. the future of waymo  in march 2020, waymo via, the trucking division of waymo, was launched. according to google, since 2017 waymo driver had been learning to drive large class 8 trucks in the same way that it had learned how to drive passenger vehicles. waymo is currently testing its fleet of trucks in california, arizona, new mexico, and texas, and has launched a pilot program for local delivery in the phoenix, arizona area.15ï»¿ waymo has partnerships with multiple vehicle manufacturers to integrate its technology. in october 2020, waymo and daimler trucks partnered to create an autonomous version of the freightliner cascadia truck. this is waymo's first foray into the freight industry. daimler's trucks will be equipped with autonomous technology that allows them to drive without a human but only in pre-defined areas.16ï»¿ googleâ€™s self-driving car faqs  is google making a car?  google has made it clear that it has no plans to build cars itself. waymo is a self-driving technology company; it does not intend to manufacture and sell its own line of vehicles. what year will there be self-driving cars?  early estimates about self-driving cars being the norm by 2020 have turned into having a few research vehicles on the road by 2020. even if the technology is not developing as fast as expected, computer-processing capabilities and sophisticated artificial intelligence systems are becoming more advanced and more affordable every year. it's not clear when all the pieces will truly fall into place to allow for driverless technologies to safely navigate public roads among traditional cars. while experts agree that there will be a time in the future when this is true, they disagree on the timeline. how much does the google car cost?  google does not manufacture or sell its own cars. however, you can purchase a semi-autonomous honda civic that comes with advanced driver assistance systems (adas) that control the steering, lane changing, acceleration, and braking while the car is cruising on the highway. you can also purchase a tesla motors vehicle that comes equipped with its semi-autonomous autopilot feature. the bottom line  however it plays out, these vehicles are comingâ€”and fast. their full adoption will take decades, but their convenience, cost, safety, and other factors will make them ubiquitous and indispensable. such as with any technological revolution, the companies that plan ahead, adjust the fastest, and imagine the biggest will survive and thrive. and companies invested in old technology and practices will need to evolve or risk dying.\""
      ]
     },
     "execution_count": 22,
     "metadata": {},
     "output_type": "execute_result"
    }
   ],
   "source": [
    "df.loc[5]['Content_Parsed_2']"
   ]
  },
  {
   "cell_type": "code",
   "execution_count": 23,
   "id": "2589f780",
   "metadata": {},
   "outputs": [
    {
     "data": {
      "text/plain": [
       "\"how google's self-driving car will change everything imagine getting into your car typingâ€”or better yet speakingâ€”a location into your vehicleâ€™s interface then letting it drive you to your destination while you read a book surf the web or nap self-driving vehiclesâ€”the stuff of science fiction since the first roads were pavedâ€”are coming and theyâ€™re going to radically change what itâ€™s like to get from point a to point b in 2009 google started the self-driving car project with the goal of driving autonomously over ten uninterrupted 100-mile routes in 2016 waymo an autonomous driving technology company became a subsidiary of alphabet and google's self-driving project became waymo since then waymo has invited the public to join the first public trial of autonomous vehicles operated by the waymo driver and introduced its first fully autonomous vehicles operated by the waymo driver on public roads without anyone in the driverâ€™s seat key takeaways  the hype around driverless cars has grown rapidly over the past several years with many big technology companies getting behind the concept  google launched its waymo division to develop and market consumer-ready driverless vehicles around the globe  the company along with several others in the tech and auto industries is betting that driverless cars will soon change the way we get around in a major way  among the revolutionary changes will be safer roads fewer fossil fuels and lower transportation costs  basic technology already in use  â€œthe building blocks of driverless cars are on the road nowâ€\\x9d explained russ rader senior vice president of communications at the insurance institute for highway safety1ï»¿ he pointed to the front-crash prevention systems that for several years have been able to warn drivers of an impending obstacle and apply the brakes if they donâ€™t react fast enough these systems were quickly followed by technology that allows cars to self-park by sizing up a free spot and automatically steering into it with the driver only controlling the accelerator and brake pedals mercedes-benz took autonomous driving even further when they introduced drive pilot which allows the driver to hand over direct control of steering and speed in certain circumstances while still supervising the overall operation of the car2ï»¿ in 2018 waymo announced that they would be making self-driving cars available by 2020 however despite some extraordinary advancements in the year 2020 self-driving cars are still out of reach except in some trial programs3ï»¿ the current technology on the market is limited to cars that will automatically brake for you if they anticipate a collision cars that help keep you in your lane and cars that can mostly handle highway driving the idea behind self-driving cars is fairly simple build a car with cameras that can track all the objects around it the car should react if itâ€™s about to steer into one and once in-car computers know all driving rules they should be able to navigate to their destination in the end you might say that the execution of these ideas has been more complicated than was anticipated waymo's cars the leader in self-driving technology use high-resolution cameras and lidar (light detection and ranging which is a way of estimating the distance to another object by bouncing light and sound off things) this technology helps the self-driving car identify where other cars cyclists pedestrians and obstacles are and where theyâ€™re moving4ï»¿ a drastic change  with the adoption of any new revolutionary technology it is predicted there will be problems for businesses that donâ€™t adjust fast enough to future developments in self-driving car technology futurists estimate that hundreds of billions of dollars (if not trillions) will be lost by automakers suppliers dealers insurers parking companies and many other car-related enterprises and think of the lost revenue for governments via licensing fees taxes and tolls and by personal injury lawyers and health insurers who needs a car made with heavier-gauge steel and eight airbags (not to mention a body shop) if accidents are so rare who needs a parking spot close to work if your car can drive you there park itself miles away only to pick you up later who needs to buy a flight from boston to cleveland when you can leave in the evening sleep much of the way and arrive in the morning indeed one of googleâ€™s goals is to facilitate car-sharing5ï»¿ that means fewer cars on the road fewer cars period who needs to own a car when you can just order a shared one and itâ€™ll drive up minutes later ready to take you wherever you want â€œthis [has the potential to] dramatically reduce the number of cars on the street 80% of which have people driving alone in them and also a household's cost of transportation which is 18% of their incomeâ€”around $9000 a yearâ€”for an asset that they use only 5% of the timeâ€\\x9d said robin chase the founder and ceo of buzzcar a peer-to-peer car-sharing service and co-founder and former ceo of zipcar in 2030 self-driving cars are expected to create $87 billion worth of opportunities for automakers and technology developers said a report by boston-based lux research6ï»¿ software developers stand to win big a manufacturing revolution  if youâ€™re an automaker such as ford motor co (f) general motors co (gm) chrysler group llc toyota motor corp or honda motor co ltd (hmc) which account for almost 70% of the us market you could see an initial surge in the $600 billion in annual new and used car sales globally7ï»¿ 8ï»¿ but as soon as the technology takes hold sales could fall off significantly as sharing popularizes cars will always need steel glass an interior a drivetrain and some form of human interface (even if that interface is little more than a wireless connection to your smartphone) but much of everything else could change as an example take front-facing seats they could become an option not a requirement automakers that see the changes comingâ€”such as how the big profits are secured downstream by car servicers insurers and moreâ€”are focusing on services as much as on what and how they manufacture infrastructure transformation  with fewer cars around parking lots and spaces that cover roughly one-third of the land area of many us cities can be repurposed that could mean temporary downward pressure on real estate values as supply increases it could also mean greener urban areas and revitalized suburbs if longer commutes become more palatable and if fewer cars are on the road federal state and local government agencies may be able to reallocate a good portion of the roughly $180 billion spent annually on highways and roads9ï»¿ changing oil demand  if youâ€™re in the business of finding extracting refining and marketing hydrocarbons such as exxon mobil (eox) chevron (cvx) or bp (bp) you could see your business fluctuate as use changes â€œthese vehicles should practice very efficient eco-driving practices which is typically about 20% better than the average driverâ€\\x9d said chase â€œon the other hand if these cars are owned by individuals i see a huge rise in the number of trips and vehicle miles traveled people will send out their car to run errands they would never do if they had to be in the car and waste their own time if the autonomous cars are shared vehicles and people pay for each trip i think this will reduce demand and thus (vehicle miles traveled)â€\\x9d safety dividend  autonomous vehicles are also expected to be safer â€œthese cars won't get drunk or high drive too fast or take unnecessary risksâ€”things people do all the timeâ€\\x9d chase said â€œover 90% of accidents today are caused by driver errorâ€\\x9d said professor robert w peterson of the center for insurance law and regulation at santa clara university school of law â€œthere is every reason to believe that self-driving cars will reduce the frequency and severity of accidents so insurance costs should fall perhaps dramaticallyâ€\\x9d10ï»¿ â€œcars can still get flooded damaged or stolenâ€\\x9d notes michael barry vice president of media relations at the insurance information institute â€œbut this technology will have a dramatic impact on underwriting a lot of traditional underwriting criteria will be upendedâ€\\x9d11ï»¿ barry said itâ€™s too early to quantify exactly how self-driving vehicles will affect rates but added that injured parties in a crash involving a self-driving car may choose to sue the vehicleâ€™s manufacturer or the software company that designed the autonomous capability initially insurers such as state farm insurance allstate corp (all) liberty mutual group berkshire hathaway incâ€™s (brk-a) geico citigroup incâ€™s (c) travelers group could see a huge benefit from lower accident liabilities but they may wind up losing a big portion of the $200 billion in personal auto premiums they write every year as fewer cars take to the road some experts have even speculated that mandatory insurance for cars could be dropped and as long as weâ€™re talking about financial services what about the multitude of banks and creditors that lend buyers money in about 85% of car purchases if sales volume falls12ï»¿ according to a university of texas report if only 10% of the cars on us roads were autonomous almost $30 billion of savings could be realized via less wasted time and fuel as well as fewer injuries and deaths at 90% the benefit rises to almost $120 billion a year13ï»¿ closer to home  self-driving cars could have a substantial impact on the taxi and limousine industries and could potentially create new ones chase noted that they could be used to share specific trips as a kind of pay-as-you-go small-scale public transportationâ€”for example taking a disparate bunch of manhattanites to the same beach in the hamptons in one trip one study found that a fleet of 9000 driverless taxis could serve all of manhattan at about $050 per mile (compared to about $5 per mile now) at the time the study was published there were licenses for over 13000 taxis in new york city14ï»¿ self-driving cars may also challenge train lines â€œa self-driving car offers much of the convenience of rail service with the added convenience that the service is portal-to-portal rather than station-to-stationâ€\\x9d peterson said â€œon the other hand a fleet of self-driving cars available at the station may make rail service more palatable â€œthe technology has already been adopted in closed systems such as campuses air-terminals and miningâ€\\x9d he noted â€œrio tinto group (rio) a large mining company uses enormous self-driving trucks in its mining operations european countries are experimenting with the platooning of trucks among other things this saves about 18% in fuelâ€\\x9d risks and hurdles  there are regulatory and legislative obstacles to the widespread use of self-driving cars and substantial concerns about privacy (who will have access to any driving information these vehicles store) thereâ€™s also the question of security as hackers could theoretically take control of these vehicles and are not known for their restraint or civic-mindedness the future of waymo  in march 2020 waymo via the trucking division of waymo was launched according to google since 2017 waymo driver had been learning to drive large class 8 trucks in the same way that it had learned how to drive passenger vehicles waymo is currently testing its fleet of trucks in california arizona new mexico and texas and has launched a pilot program for local delivery in the phoenix arizona area15ï»¿ waymo has partnerships with multiple vehicle manufacturers to integrate its technology in october 2020 waymo and daimler trucks partnered to create an autonomous version of the freightliner cascadia truck this is waymo's first foray into the freight industry daimler's trucks will be equipped with autonomous technology that allows them to drive without a human but only in pre-defined areas16ï»¿ googleâ€™s self-driving car faqs  is google making a car  google has made it clear that it has no plans to build cars itself waymo is a self-driving technology company it does not intend to manufacture and sell its own line of vehicles what year will there be self-driving cars  early estimates about self-driving cars being the norm by 2020 have turned into having a few research vehicles on the road by 2020 even if the technology is not developing as fast as expected computer-processing capabilities and sophisticated artificial intelligence systems are becoming more advanced and more affordable every year it's not clear when all the pieces will truly fall into place to allow for driverless technologies to safely navigate public roads among traditional cars while experts agree that there will be a time in the future when this is true they disagree on the timeline how much does the google car cost  google does not manufacture or sell its own cars however you can purchase a semi-autonomous honda civic that comes with advanced driver assistance systems (adas) that control the steering lane changing acceleration and braking while the car is cruising on the highway you can also purchase a tesla motors vehicle that comes equipped with its semi-autonomous autopilot feature the bottom line  however it plays out these vehicles are comingâ€”and fast their full adoption will take decades but their convenience cost safety and other factors will make them ubiquitous and indispensable such as with any technological revolution the companies that plan ahead adjust the fastest and imagine the biggest will survive and thrive and companies invested in old technology and practices will need to evolve or risk dying\""
      ]
     },
     "execution_count": 23,
     "metadata": {},
     "output_type": "execute_result"
    }
   ],
   "source": [
    "df.loc[5]['Content_Parsed_3']"
   ]
  },
  {
   "cell_type": "code",
   "execution_count": 24,
   "id": "1f9ebdac",
   "metadata": {},
   "outputs": [
    {
     "data": {
      "text/plain": [
       "\"how google self-driving car will change everything imagine getting into your car typingâ€”or better yet speakingâ€”a location into your vehicleâ€™s interface then letting it drive you to your destination while you read a book surf the web or nap self-driving vehiclesâ€”the stuff of science fiction since the first roads were pavedâ€”are coming and theyâ€™re going to radically change what itâ€™s like to get from point a to point b in 2009 google started the self-driving car project with the goal of driving autonomously over ten uninterrupted 100-mile routes in 2016 waymo an autonomous driving technology company became a subsidiary of alphabet and google self-driving project became waymo since then waymo has invited the public to join the first public trial of autonomous vehicles operated by the waymo driver and introduced its first fully autonomous vehicles operated by the waymo driver on public roads without anyone in the driverâ€™s seat key takeaways  the hype around driverless cars has grown rapidly over the past several years with many big technology companies getting behind the concept  google launched its waymo division to develop and market consumer-ready driverless vehicles around the globe  the company along with several others in the tech and auto industries is betting that driverless cars will soon change the way we get around in a major way  among the revolutionary changes will be safer roads fewer fossil fuels and lower transportation costs  basic technology already in use  â€œthe building blocks of driverless cars are on the road nowâ€\\x9d explained russ rader senior vice president of communications at the insurance institute for highway safety1ï»¿ he pointed to the front-crash prevention systems that for several years have been able to warn drivers of an impending obstacle and apply the brakes if they donâ€™t react fast enough these systems were quickly followed by technology that allows cars to self-park by sizing up a free spot and automatically steering into it with the driver only controlling the accelerator and brake pedals mercedes-benz took autonomous driving even further when they introduced drive pilot which allows the driver to hand over direct control of steering and speed in certain circumstances while still supervising the overall operation of the car2ï»¿ in 2018 waymo announced that they would be making self-driving cars available by 2020 however despite some extraordinary advancements in the year 2020 self-driving cars are still out of reach except in some trial programs3ï»¿ the current technology on the market is limited to cars that will automatically brake for you if they anticipate a collision cars that help keep you in your lane and cars that can mostly handle highway driving the idea behind self-driving cars is fairly simple build a car with cameras that can track all the objects around it the car should react if itâ€™s about to steer into one and once in-car computers know all driving rules they should be able to navigate to their destination in the end you might say that the execution of these ideas has been more complicated than was anticipated waymo cars the leader in self-driving technology use high-resolution cameras and lidar (light detection and ranging which is a way of estimating the distance to another object by bouncing light and sound off things) this technology helps the self-driving car identify where other cars cyclists pedestrians and obstacles are and where theyâ€™re moving4ï»¿ a drastic change  with the adoption of any new revolutionary technology it is predicted there will be problems for businesses that donâ€™t adjust fast enough to future developments in self-driving car technology futurists estimate that hundreds of billions of dollars (if not trillions) will be lost by automakers suppliers dealers insurers parking companies and many other car-related enterprises and think of the lost revenue for governments via licensing fees taxes and tolls and by personal injury lawyers and health insurers who needs a car made with heavier-gauge steel and eight airbags (not to mention a body shop) if accidents are so rare who needs a parking spot close to work if your car can drive you there park itself miles away only to pick you up later who needs to buy a flight from boston to cleveland when you can leave in the evening sleep much of the way and arrive in the morning indeed one of googleâ€™s goals is to facilitate car-sharing5ï»¿ that means fewer cars on the road fewer cars period who needs to own a car when you can just order a shared one and itâ€™ll drive up minutes later ready to take you wherever you want â€œthis [has the potential to] dramatically reduce the number of cars on the street 80% of which have people driving alone in them and also a household cost of transportation which is 18% of their incomeâ€”around $9000 a yearâ€”for an asset that they use only 5% of the timeâ€\\x9d said robin chase the founder and ceo of buzzcar a peer-to-peer car-sharing service and co-founder and former ceo of zipcar in 2030 self-driving cars are expected to create $87 billion worth of opportunities for automakers and technology developers said a report by boston-based lux research6ï»¿ software developers stand to win big a manufacturing revolution  if youâ€™re an automaker such as ford motor co (f) general motors co (gm) chrysler group llc toyota motor corp or honda motor co ltd (hmc) which account for almost 70% of the us market you could see an initial surge in the $600 billion in annual new and used car sales globally7ï»¿ 8ï»¿ but as soon as the technology takes hold sales could fall off significantly as sharing popularizes cars will always need steel glass an interior a drivetrain and some form of human interface (even if that interface is little more than a wireless connection to your smartphone) but much of everything else could change as an example take front-facing seats they could become an option not a requirement automakers that see the changes comingâ€”such as how the big profits are secured downstream by car servicers insurers and moreâ€”are focusing on services as much as on what and how they manufacture infrastructure transformation  with fewer cars around parking lots and spaces that cover roughly one-third of the land area of many us cities can be repurposed that could mean temporary downward pressure on real estate values as supply increases it could also mean greener urban areas and revitalized suburbs if longer commutes become more palatable and if fewer cars are on the road federal state and local government agencies may be able to reallocate a good portion of the roughly $180 billion spent annually on highways and roads9ï»¿ changing oil demand  if youâ€™re in the business of finding extracting refining and marketing hydrocarbons such as exxon mobil (eox) chevron (cvx) or bp (bp) you could see your business fluctuate as use changes â€œthese vehicles should practice very efficient eco-driving practices which is typically about 20% better than the average driverâ€\\x9d said chase â€œon the other hand if these cars are owned by individuals i see a huge rise in the number of trips and vehicle miles traveled people will send out their car to run errands they would never do if they had to be in the car and waste their own time if the autonomous cars are shared vehicles and people pay for each trip i think this will reduce demand and thus (vehicle miles traveled)â€\\x9d safety dividend  autonomous vehicles are also expected to be safer â€œthese cars won't get drunk or high drive too fast or take unnecessary risksâ€”things people do all the timeâ€\\x9d chase said â€œover 90% of accidents today are caused by driver errorâ€\\x9d said professor robert w peterson of the center for insurance law and regulation at santa clara university school of law â€œthere is every reason to believe that self-driving cars will reduce the frequency and severity of accidents so insurance costs should fall perhaps dramaticallyâ€\\x9d10ï»¿ â€œcars can still get flooded damaged or stolenâ€\\x9d notes michael barry vice president of media relations at the insurance information institute â€œbut this technology will have a dramatic impact on underwriting a lot of traditional underwriting criteria will be upendedâ€\\x9d11ï»¿ barry said itâ€™s too early to quantify exactly how self-driving vehicles will affect rates but added that injured parties in a crash involving a self-driving car may choose to sue the vehicleâ€™s manufacturer or the software company that designed the autonomous capability initially insurers such as state farm insurance allstate corp (all) liberty mutual group berkshire hathaway incâ€™s (brk-a) geico citigroup incâ€™s (c) travelers group could see a huge benefit from lower accident liabilities but they may wind up losing a big portion of the $200 billion in personal auto premiums they write every year as fewer cars take to the road some experts have even speculated that mandatory insurance for cars could be dropped and as long as weâ€™re talking about financial services what about the multitude of banks and creditors that lend buyers money in about 85% of car purchases if sales volume falls12ï»¿ according to a university of texas report if only 10% of the cars on us roads were autonomous almost $30 billion of savings could be realized via less wasted time and fuel as well as fewer injuries and deaths at 90% the benefit rises to almost $120 billion a year13ï»¿ closer to home  self-driving cars could have a substantial impact on the taxi and limousine industries and could potentially create new ones chase noted that they could be used to share specific trips as a kind of pay-as-you-go small-scale public transportationâ€”for example taking a disparate bunch of manhattanites to the same beach in the hamptons in one trip one study found that a fleet of 9000 driverless taxis could serve all of manhattan at about $050 per mile (compared to about $5 per mile now) at the time the study was published there were licenses for over 13000 taxis in new york city14ï»¿ self-driving cars may also challenge train lines â€œa self-driving car offers much of the convenience of rail service with the added convenience that the service is portal-to-portal rather than station-to-stationâ€\\x9d peterson said â€œon the other hand a fleet of self-driving cars available at the station may make rail service more palatable â€œthe technology has already been adopted in closed systems such as campuses air-terminals and miningâ€\\x9d he noted â€œrio tinto group (rio) a large mining company uses enormous self-driving trucks in its mining operations european countries are experimenting with the platooning of trucks among other things this saves about 18% in fuelâ€\\x9d risks and hurdles  there are regulatory and legislative obstacles to the widespread use of self-driving cars and substantial concerns about privacy (who will have access to any driving information these vehicles store) thereâ€™s also the question of security as hackers could theoretically take control of these vehicles and are not known for their restraint or civic-mindedness the future of waymo  in march 2020 waymo via the trucking division of waymo was launched according to google since 2017 waymo driver had been learning to drive large class 8 trucks in the same way that it had learned how to drive passenger vehicles waymo is currently testing its fleet of trucks in california arizona new mexico and texas and has launched a pilot program for local delivery in the phoenix arizona area15ï»¿ waymo has partnerships with multiple vehicle manufacturers to integrate its technology in october 2020 waymo and daimler trucks partnered to create an autonomous version of the freightliner cascadia truck this is waymo first foray into the freight industry daimler trucks will be equipped with autonomous technology that allows them to drive without a human but only in pre-defined areas16ï»¿ googleâ€™s self-driving car faqs  is google making a car  google has made it clear that it has no plans to build cars itself waymo is a self-driving technology company it does not intend to manufacture and sell its own line of vehicles what year will there be self-driving cars  early estimates about self-driving cars being the norm by 2020 have turned into having a few research vehicles on the road by 2020 even if the technology is not developing as fast as expected computer-processing capabilities and sophisticated artificial intelligence systems are becoming more advanced and more affordable every year it not clear when all the pieces will truly fall into place to allow for driverless technologies to safely navigate public roads among traditional cars while experts agree that there will be a time in the future when this is true they disagree on the timeline how much does the google car cost  google does not manufacture or sell its own cars however you can purchase a semi-autonomous honda civic that comes with advanced driver assistance systems (adas) that control the steering lane changing acceleration and braking while the car is cruising on the highway you can also purchase a tesla motors vehicle that comes equipped with its semi-autonomous autopilot feature the bottom line  however it plays out these vehicles are comingâ€”and fast their full adoption will take decades but their convenience cost safety and other factors will make them ubiquitous and indispensable such as with any technological revolution the companies that plan ahead adjust the fastest and imagine the biggest will survive and thrive and companies invested in old technology and practices will need to evolve or risk dying\""
      ]
     },
     "execution_count": 24,
     "metadata": {},
     "output_type": "execute_result"
    }
   ],
   "source": [
    "df.loc[5]['Content_Parsed_4']"
   ]
  },
  {
   "cell_type": "code",
   "execution_count": 25,
   "id": "17b27357",
   "metadata": {},
   "outputs": [
    {
     "data": {
      "text/plain": [
       "\"how google self-driving car will change everything imagine get into your car typingâ€”or better yet speakingâ€”a location into your vehicleâ€™s interface then let it drive you to your destination while you read a book surf the web or nap self-driving vehiclesâ€”the stuff of science fiction since the first roads be pavedâ€”are come and theyâ€™re go to radically change what itâ€™s like to get from point a to point b in 2009 google start the self-driving car project with the goal of drive autonomously over ten uninterrupted 100-mile rout in 2016 waymo an autonomous drive technology company become a subsidiary of alphabet and google self-driving project become waymo since then waymo have invite the public to join the first public trial of autonomous vehicles operate by the waymo driver and introduce its first fully autonomous vehicles operate by the waymo driver on public roads without anyone in the driverâ€™s seat key takeaways  the hype around driverless cars have grow rapidly over the past several years with many big technology company get behind the concept  google launch its waymo division to develop and market consumer-ready driverless vehicles around the globe  the company along with several others in the tech and auto industries be bet that driverless cars will soon change the way we get around in a major way  among the revolutionary change will be safer roads fewer fossil fuel and lower transportation cost  basic technology already in use  â€œthe build block of driverless cars be on the road nowâ€\\x9d explain russ rader senior vice president of communications at the insurance institute for highway safety1ï»¿ he point to the front-crash prevention systems that for several years have be able to warn drivers of an impend obstacle and apply the brake if they donâ€™t react fast enough these systems be quickly follow by technology that allow cars to self-park by size up a free spot and automatically steer into it with the driver only control the accelerator and brake pedal mercedes-benz take autonomous drive even further when they introduce drive pilot which allow the driver to hand over direct control of steer and speed in certain circumstances while still supervise the overall operation of the car2ï»¿ in 2018 waymo announce that they would be make self-driving cars available by 2020 however despite some extraordinary advancements in the year 2020 self-driving cars be still out of reach except in some trial programs3ï»¿ the current technology on the market be limit to cars that will automatically brake for you if they anticipate a collision cars that help keep you in your lane and cars that can mostly handle highway drive the idea behind self-driving cars be fairly simple build a car with cameras that can track all the object around it the car should react if itâ€™s about to steer into one and once in-car computers know all drive rule they should be able to navigate to their destination in the end you might say that the execution of these ideas have be more complicate than be anticipate waymo cars the leader in self-driving technology use high-resolution cameras and lidar (light detection and range which be a way of estimate the distance to another object by bounce light and sound off things) this technology help the self-driving car identify where other cars cyclists pedestrians and obstacles be and where theyâ€™re moving4ï»¿ a drastic change  with the adoption of any new revolutionary technology it be predict there will be problems for businesses that donâ€™t adjust fast enough to future developments in self-driving car technology futurists estimate that hundreds of billions of dollars (if not trillions) will be lose by automakers suppliers dealers insurers park company and many other car-related enterprises and think of the lose revenue for governments via license fee tax and toll and by personal injury lawyers and health insurers who need a car make with heavier-gauge steel and eight airbags (not to mention a body shop) if accidents be so rare who need a park spot close to work if your car can drive you there park itself miles away only to pick you up later who need to buy a flight from boston to cleveland when you can leave in the even sleep much of the way and arrive in the morning indeed one of googleâ€™s goals be to facilitate car-sharing5ï»¿ that mean fewer cars on the road fewer cars period who need to own a car when you can just order a share one and itâ€™ll drive up minutes later ready to take you wherever you want â€œthis [has the potential to] dramatically reduce the number of cars on the street 80% of which have people drive alone in them and also a household cost of transportation which be 18% of their incomeâ€”around $9000 a yearâ€”for an asset that they use only 5% of the timeâ€\\x9d say robin chase the founder and ceo of buzzcar a peer-to-peer car-sharing service and co-founder and former ceo of zipcar in 2030 self-driving cars be expect to create $87 billion worth of opportunities for automakers and technology developers say a report by boston-based lux research6ï»¿ software developers stand to win big a manufacture revolution  if youâ€™re an automaker such as ford motor co (f) general motor co (gm) chrysler group llc toyota motor corp or honda motor co ltd (hmc) which account for almost 70% of the us market you could see an initial surge in the $600 billion in annual new and use car sales globally7ï»¿ 8ï»¿ but as soon as the technology take hold sales could fall off significantly as share popularize cars will always need steel glass an interior a drivetrain and some form of human interface (even if that interface be little more than a wireless connection to your smartphone) but much of everything else could change as an example take front-facing seat they could become an option not a requirement automakers that see the change comingâ€”such as how the big profit be secure downstream by car servicers insurers and moreâ€”are focus on service as much as on what and how they manufacture infrastructure transformation  with fewer cars around park lot and space that cover roughly one-third of the land area of many us cities can be repurposed that could mean temporary downward pressure on real estate value as supply increase it could also mean greener urban areas and revitalize suburbs if longer commute become more palatable and if fewer cars be on the road federal state and local government agencies may be able to reallocate a good portion of the roughly $180 billion spend annually on highways and roads9ï»¿ change oil demand  if youâ€™re in the business of find extract refine and market hydrocarbons such as exxon mobil (eox) chevron (cvx) or bp (bp) you could see your business fluctuate as use change â€œthese vehicles should practice very efficient eco-driving practice which be typically about 20% better than the average driverâ€\\x9d say chase â€œon the other hand if these cars be own by individuals i see a huge rise in the number of trip and vehicle miles travel people will send out their car to run errands they would never do if they have to be in the car and waste their own time if the autonomous cars be share vehicles and people pay for each trip i think this will reduce demand and thus (vehicle miles traveled)â€\\x9d safety dividend  autonomous vehicles be also expect to be safer â€œthese cars won't get drink or high drive too fast or take unnecessary risksâ€”things people do all the timeâ€\\x9d chase say â€œover 90% of accidents today be cause by driver errorâ€\\x9d say professor robert w peterson of the center for insurance law and regulation at santa clara university school of law â€œthere be every reason to believe that self-driving cars will reduce the frequency and severity of accidents so insurance cost should fall perhaps dramaticallyâ€\\x9d10ï»¿ â€œcars can still get flood damage or stolenâ€\\x9d note michael barry vice president of media relations at the insurance information institute â€œbut this technology will have a dramatic impact on underwrite a lot of traditional underwrite criteria will be upendedâ€\\x9d11ï»¿ barry say itâ€™s too early to quantify exactly how self-driving vehicles will affect rat but add that injure party in a crash involve a self-driving car may choose to sue the vehicleâ€™s manufacturer or the software company that design the autonomous capability initially insurers such as state farm insurance allstate corp (all) liberty mutual group berkshire hathaway incâ€™s (brk-a) geico citigroup incâ€™s (c) travelers group could see a huge benefit from lower accident liabilities but they may wind up lose a big portion of the $200 billion in personal auto premiums they write every year as fewer cars take to the road some experts have even speculate that mandatory insurance for cars could be drop and as long as weâ€™re talk about financial service what about the multitude of bank and creditors that lend buyers money in about 85% of car purchase if sales volume falls12ï»¿ accord to a university of texas report if only 10% of the cars on us roads be autonomous almost $30 billion of save could be realize via less waste time and fuel as well as fewer injuries and deaths at 90% the benefit rise to almost $120 billion a year13ï»¿ closer to home  self-driving cars could have a substantial impact on the taxi and limousine industries and could potentially create new ones chase note that they could be use to share specific trip as a kind of pay-as-you-go small-scale public transportationâ€”for example take a disparate bunch of manhattanites to the same beach in the hamptons in one trip one study find that a fleet of 9000 driverless taxis could serve all of manhattan at about $050 per mile (compared to about $5 per mile now) at the time the study be publish there be license for over 13000 taxis in new york city14ï»¿ self-driving cars may also challenge train line â€œa self-driving car offer much of the convenience of rail service with the add convenience that the service be portal-to-portal rather than station-to-stationâ€\\x9d peterson say â€œon the other hand a fleet of self-driving cars available at the station may make rail service more palatable â€œthe technology have already be adopt in close systems such as campuses air-terminals and miningâ€\\x9d he note â€œrio tinto group (rio) a large mine company use enormous self-driving truck in its mine operations european countries be experiment with the platooning of truck among other things this save about 18% in fuelâ€\\x9d risk and hurdle  there be regulatory and legislative obstacles to the widespread use of self-driving cars and substantial concern about privacy (who will have access to any drive information these vehicles store) thereâ€™s also the question of security as hackers could theoretically take control of these vehicles and be not know for their restraint or civic-mindedness the future of waymo  in march 2020 waymo via the truck division of waymo be launch accord to google since 2017 waymo driver have be learn to drive large class 8 truck in the same way that it have learn how to drive passenger vehicles waymo be currently test its fleet of truck in california arizona new mexico and texas and have launch a pilot program for local delivery in the phoenix arizona area15ï»¿ waymo have partnerships with multiple vehicle manufacturers to integrate its technology in october 2020 waymo and daimler truck partner to create an autonomous version of the freightliner cascadia truck this be waymo first foray into the freight industry daimler truck will be equip with autonomous technology that allow them to drive without a human but only in pre-defined areas16ï»¿ googleâ€™s self-driving car faqs  be google make a car  google have make it clear that it have no plan to build cars itself waymo be a self-driving technology company it do not intend to manufacture and sell its own line of vehicles what year will there be self-driving cars  early estimate about self-driving cars be the norm by 2020 have turn into have a few research vehicles on the road by 2020 even if the technology be not develop as fast as expect computer-processing capabilities and sophisticate artificial intelligence systems be become more advance and more affordable every year it not clear when all the piece will truly fall into place to allow for driverless technologies to safely navigate public roads among traditional cars while experts agree that there will be a time in the future when this be true they disagree on the timeline how much do the google car cost  google do not manufacture or sell its own cars however you can purchase a semi-autonomous honda civic that come with advance driver assistance systems (adas) that control the steer lane change acceleration and brake while the car be cruise on the highway you can also purchase a tesla motor vehicle that come equip with its semi-autonomous autopilot feature the bottom line  however it play out these vehicles be comingâ€”and fast their full adoption will take decades but their convenience cost safety and other factor will make them ubiquitous and indispensable such as with any technological revolution the company that plan ahead adjust the fastest and imagine the biggest will survive and thrive and company invest in old technology and practice will need to evolve or risk die\""
      ]
     },
     "execution_count": 25,
     "metadata": {},
     "output_type": "execute_result"
    }
   ],
   "source": [
    "df.loc[5]['Content_Parsed_5']"
   ]
  },
  {
   "cell_type": "code",
   "execution_count": 26,
   "id": "3ee21a97",
   "metadata": {},
   "outputs": [
    {
     "data": {
      "text/plain": [
       "\" google self-driving car  change everything imagine get   car typingâ€” better yet speakingâ€” location   vehicleâ€™ interface  let  drive    destination   read  book surf  web  nap self-driving vehiclesâ€” stuff  science fiction since  first roads  pavedâ€” come  theyâ€™ go  radically change  itâ€™ like  get  point   point b  2009 google start  self-driving car project   goal  drive autonomously  ten uninterrupted 100-mile rout  2016 waymo  autonomous drive technology company become  subsidiary  alphabet  google self-driving project become waymo since  waymo  invite  public  join  first public trial  autonomous vehicles operate   waymo driver  introduce  first fully autonomous vehicles operate   waymo driver  public roads without anyone   driverâ€™ seat key takeaways   hype around driverless cars  grow rapidly   past several years  many big technology company get behind  concept  google launch  waymo division  develop  market consumer-ready driverless vehicles around  globe   company along  several others   tech  auto industries  bet  driverless cars  soon change  way  get around   major way  among  revolutionary change   safer roads fewer fossil fuel  lower transportation cost  basic technology already  use  â€œthe build block  driverless cars    road nowâ€\\x9d explain russ rader senior vice president  communications   insurance institute  highway safety1ï»¿  point   front-crash prevention systems   several years   able  warn drivers   impend obstacle  apply  brake   donâ€™ react fast enough  systems  quickly follow  technology  allow cars  self-park  size   free spot  automatically steer     driver  control  accelerator  brake pedal mercedes-benz take autonomous drive even    introduce drive pilot  allow  driver  hand  direct control  steer  speed  certain circumstances  still supervise  overall operation   car2ï»¿  2018 waymo announce   would  make self-driving cars available  2020 however despite  extraordinary advancements   year 2020 self-driving cars  still   reach except   trial programs3ï»¿  current technology   market  limit  cars   automatically brake     anticipate  collision cars  help keep    lane  cars   mostly handle highway drive  idea behind self-driving cars  fairly simple build  car  cameras   track   object around   car  react  itâ€™   steer  one   -car computers know  drive rule    able  navigate   destination   end  might say   execution   ideas    complicate   anticipate waymo cars  leader  self-driving technology use high-resolution cameras  lidar (light detection  range    way  estimate  distance  another object  bounce light  sound  things)  technology help  self-driving car identify   cars cyclists pedestrians  obstacles    theyâ€™ moving4ï»¿  drastic change    adoption   new revolutionary technology   predict    problems  businesses  donâ€™ adjust fast enough  future developments  self-driving car technology futurists estimate  hundreds  billions  dollars (  trillions)   lose  automakers suppliers dealers insurers park company  many  car-related enterprises  think   lose revenue  governments via license fee tax  toll   personal injury lawyers  health insurers  need  car make  heavier-gauge steel  eight airbags (  mention  body shop)  accidents   rare  need  park spot close  work   car  drive   park  miles away   pick   later  need  buy  flight  boston  cleveland    leave   even sleep much   way  arrive   morning indeed one  googleâ€™ goals   facilitate car-sharing5ï»¿  mean fewer cars   road fewer cars period  need    car     order  share one  itâ€™ drive  minutes later ready  take  wherever  want â€œthis [  potential ] dramatically reduce  number  cars   street 80%    people drive alone    also  household cost  transportation   18%   incomeâ€”around $9000  yearâ€”  asset   use  5%   timeâ€\\x9d say robin chase  founder  ceo  buzzcar  peer--peer car-sharing service  co-founder  former ceo  zipcar  2030 self-driving cars  expect  create $87 billion worth  opportunities  automakers  technology developers say  report  boston-based lux research6ï»¿ software developers stand  win big  manufacture revolution   youâ€™  automaker   ford motor co (f) general motor co (gm) chrysler group llc toyota motor corp  honda motor co ltd (hmc)  account  almost 70%   us market  could see  initial surge   $600 billion  annual new  use car sales globally7ï»¿ 8ï»¿   soon   technology take hold sales could fall  significantly  share popularize cars  always need steel glass  interior  drivetrain   form  human interface (even   interface  little    wireless connection   smartphone)  much  everything else could change   example take front-facing seat  could become  option   requirement automakers  see  change comingâ€”    big profit  secure downstream  car servicers insurers  moreâ€” focus  service  much       manufacture infrastructure transformation   fewer cars around park lot  space  cover roughly one-third   land area  many us cities   repurposed  could mean temporary downward pressure  real estate value  supply increase  could also mean greener urban areas  revitalize suburbs  longer commute become  palatable   fewer cars    road federal state  local government agencies may  able  reallocate  good portion   roughly $180 billion spend annually  highways  roads9ï»¿ change oil demand   youâ€™   business  find extract refine  market hydrocarbons   exxon mobil (eox) chevron (cvx)  bp (bp)  could see  business fluctuate  use change â€œthese vehicles  practice  efficient eco-driving practice   typically  20% better   average driverâ€\\x9d say chase â€œon   hand   cars    individuals  see  huge rise   number  trip  vehicle miles travel people  send   car  run errands  would never         car  waste   time   autonomous cars  share vehicles  people pay   trip  think   reduce demand  thus (vehicle miles traveled)â€\\x9d safety dividend  autonomous vehicles  also expect   safer â€œthese cars ' get drink  high drive  fast  take unnecessary risksâ€”things people    timeâ€\\x9d chase say â€œover 90%  accidents today  cause  driver errorâ€\\x9d say professor robert w peterson   center  insurance law  regulation  santa clara university school  law â€œthere  every reason  believe  self-driving cars  reduce  frequency  severity  accidents  insurance cost  fall perhaps dramaticallyâ€\\x9d10ï»¿ â€œcars  still get flood damage  stolenâ€\\x9d note michael barry vice president  media relations   insurance information institute â€œbut  technology    dramatic impact  underwrite  lot  traditional underwrite criteria   upendedâ€\\x9d11ï»¿ barry say itâ€™  early  quantify exactly  self-driving vehicles  affect rat  add  injure party   crash involve  self-driving car may choose  sue  vehicleâ€™ manufacturer   software company  design  autonomous capability initially insurers   state farm insurance allstate corp () liberty mutual group berkshire hathaway incâ€™ (brk-) geico citigroup incâ€™ (c) travelers group could see  huge benefit  lower accident liabilities   may wind  lose  big portion   $200 billion  personal auto premiums  write every year  fewer cars take   road  experts  even speculate  mandatory insurance  cars could  drop   long  weâ€™ talk  financial service    multitude  bank  creditors  lend buyers money   85%  car purchase  sales volume falls12ï»¿ accord   university  texas report   10%   cars  us roads  autonomous almost $30 billion  save could  realize via less waste time  fuel  well  fewer injuries  deaths  90%  benefit rise  almost $120 billion  year13ï»¿ closer  home  self-driving cars could   substantial impact   taxi  limousine industries  could potentially create new ones chase note   could  use  share specific trip   kind  pay---go small-scale public transportationâ€” example take  disparate bunch  manhattanites    beach   hamptons  one trip one study find   fleet  9000 driverless taxis could serve   manhattan   $050 per mile (compared   $5 per mile )   time  study  publish   license   13000 taxis  new york city14ï»¿ self-driving cars may also challenge train line â€œa self-driving car offer much   convenience  rail service   add convenience   service  portal--portal rather  station--stationâ€\\x9d peterson say â€œon   hand  fleet  self-driving cars available   station may make rail service  palatable â€œthe technology  already  adopt  close systems   campuses air-terminals  miningâ€\\x9d  note â€œrio tinto group (rio)  large mine company use enormous self-driving truck   mine operations european countries  experiment   platooning  truck among  things  save  18%  fuelâ€\\x9d risk  hurdle    regulatory  legislative obstacles   widespread use  self-driving cars  substantial concern  privacy (   access   drive information  vehicles store) thereâ€™ also  question  security  hackers could theoretically take control   vehicles    know   restraint  civic-mindedness  future  waymo   march 2020 waymo via  truck division  waymo  launch accord  google since 2017 waymo driver   learn  drive large class 8 truck    way    learn   drive passenger vehicles waymo  currently test  fleet  truck  california arizona new mexico  texas   launch  pilot program  local delivery   phoenix arizona area15ï»¿ waymo  partnerships  multiple vehicle manufacturers  integrate  technology  october 2020 waymo  daimler truck partner  create  autonomous version   freightliner cascadia truck   waymo first foray   freight industry daimler truck   equip  autonomous technology  allow   drive without  human    pre-defined areas16ï»¿ googleâ€™ self-driving car faqs   google make  car  google  make  clear     plan  build cars  waymo   self-driving technology company    intend  manufacture  sell   line  vehicles  year    self-driving cars  early estimate  self-driving cars   norm  2020  turn     research vehicles   road  2020 even   technology   develop  fast  expect computer-processing capabilities  sophisticate artificial intelligence systems  become  advance   affordable every year   clear    piece  truly fall  place  allow  driverless technologies  safely navigate public roads among traditional cars  experts agree      time   future    true  disagree   timeline  much   google car cost  google   manufacture  sell   cars however   purchase  semi-autonomous honda civic  come  advance driver assistance systems (adas)  control  steer lane change acceleration  brake   car  cruise   highway   also purchase  tesla motor vehicle  come equip   semi-autonomous autopilot feature  bottom line  however  play   vehicles  comingâ€” fast  full adoption  take decades   convenience cost safety   factor  make  ubiquitous  indispensable     technological revolution  company  plan ahead adjust  fastest  imagine  biggest  survive  thrive  company invest  old technology  practice  need  evolve  risk die\""
      ]
     },
     "execution_count": 26,
     "metadata": {},
     "output_type": "execute_result"
    }
   ],
   "source": [
    "df.loc[5]['Content_Parsed_6']"
   ]
  },
  {
   "cell_type": "code",
   "execution_count": 27,
   "id": "1925c7d3",
   "metadata": {},
   "outputs": [
    {
     "data": {
      "text/html": [
       "<div>\n",
       "<style scoped>\n",
       "    .dataframe tbody tr th:only-of-type {\n",
       "        vertical-align: middle;\n",
       "    }\n",
       "\n",
       "    .dataframe tbody tr th {\n",
       "        vertical-align: top;\n",
       "    }\n",
       "\n",
       "    .dataframe thead th {\n",
       "        text-align: right;\n",
       "    }\n",
       "</style>\n",
       "<table border=\"1\" class=\"dataframe\">\n",
       "  <thead>\n",
       "    <tr style=\"text-align: right;\">\n",
       "      <th></th>\n",
       "      <th>File_Name</th>\n",
       "      <th>Content</th>\n",
       "      <th>Category</th>\n",
       "      <th>Complete_Filename</th>\n",
       "      <th>id</th>\n",
       "      <th>News_length</th>\n",
       "      <th>Content_Parsed_1</th>\n",
       "      <th>Content_Parsed_2</th>\n",
       "      <th>Content_Parsed_3</th>\n",
       "      <th>Content_Parsed_4</th>\n",
       "      <th>Content_Parsed_5</th>\n",
       "      <th>Content_Parsed_6</th>\n",
       "    </tr>\n",
       "  </thead>\n",
       "  <tbody>\n",
       "    <tr>\n",
       "      <th>0</th>\n",
       "      <td>001.txt</td>\n",
       "      <td>Autonomous Vehicles 101\\r\\n\\r\\nAutonomous vehi...</td>\n",
       "      <td>autonomous vehicles</td>\n",
       "      <td>001.txt-autonomous vehicles</td>\n",
       "      <td>1</td>\n",
       "      <td>3041</td>\n",
       "      <td>Autonomous Vehicles 101 Autonomous vehicles â€...</td>\n",
       "      <td>autonomous vehicles 101 autonomous vehicles â€...</td>\n",
       "      <td>autonomous vehicles 101 autonomous vehicles â€...</td>\n",
       "      <td>autonomous vehicles 101 autonomous vehicles â€...</td>\n",
       "      <td>autonomous vehicles 101 autonomous vehicles â€...</td>\n",
       "      <td>autonomous vehicles 101 autonomous vehicles â€...</td>\n",
       "    </tr>\n",
       "  </tbody>\n",
       "</table>\n",
       "</div>"
      ],
      "text/plain": [
       "  File_Name                                            Content  \\\n",
       "0   001.txt  Autonomous Vehicles 101\\r\\n\\r\\nAutonomous vehi...   \n",
       "\n",
       "              Category            Complete_Filename  id  News_length  \\\n",
       "0  autonomous vehicles  001.txt-autonomous vehicles   1         3041   \n",
       "\n",
       "                                    Content_Parsed_1  \\\n",
       "0  Autonomous Vehicles 101 Autonomous vehicles â€...   \n",
       "\n",
       "                                    Content_Parsed_2  \\\n",
       "0  autonomous vehicles 101 autonomous vehicles â€...   \n",
       "\n",
       "                                    Content_Parsed_3  \\\n",
       "0  autonomous vehicles 101 autonomous vehicles â€...   \n",
       "\n",
       "                                    Content_Parsed_4  \\\n",
       "0  autonomous vehicles 101 autonomous vehicles â€...   \n",
       "\n",
       "                                    Content_Parsed_5  \\\n",
       "0  autonomous vehicles 101 autonomous vehicles â€...   \n",
       "\n",
       "                                    Content_Parsed_6  \n",
       "0  autonomous vehicles 101 autonomous vehicles â€...  "
      ]
     },
     "execution_count": 27,
     "metadata": {},
     "output_type": "execute_result"
    }
   ],
   "source": [
    "df.head(1)"
   ]
  },
  {
   "cell_type": "code",
   "execution_count": 28,
   "id": "0f5d82e7",
   "metadata": {},
   "outputs": [],
   "source": [
    "list_columns = [\"File_Name\", \"Category\", \"Complete_Filename\", \"Content\", \"Content_Parsed_6\"]\n",
    "\n",
    "df = df[list_columns]\n",
    "\n",
    "df = df.rename(columns={'Content_Parsed_6': 'Content_Parsed'})"
   ]
  },
  {
   "cell_type": "code",
   "execution_count": 29,
   "id": "feaece66",
   "metadata": {},
   "outputs": [
    {
     "data": {
      "text/html": [
       "<div>\n",
       "<style scoped>\n",
       "    .dataframe tbody tr th:only-of-type {\n",
       "        vertical-align: middle;\n",
       "    }\n",
       "\n",
       "    .dataframe tbody tr th {\n",
       "        vertical-align: top;\n",
       "    }\n",
       "\n",
       "    .dataframe thead th {\n",
       "        text-align: right;\n",
       "    }\n",
       "</style>\n",
       "<table border=\"1\" class=\"dataframe\">\n",
       "  <thead>\n",
       "    <tr style=\"text-align: right;\">\n",
       "      <th></th>\n",
       "      <th>File_Name</th>\n",
       "      <th>Category</th>\n",
       "      <th>Complete_Filename</th>\n",
       "      <th>Content</th>\n",
       "      <th>Content_Parsed</th>\n",
       "    </tr>\n",
       "  </thead>\n",
       "  <tbody>\n",
       "    <tr>\n",
       "      <th>0</th>\n",
       "      <td>001.txt</td>\n",
       "      <td>autonomous vehicles</td>\n",
       "      <td>001.txt-autonomous vehicles</td>\n",
       "      <td>Autonomous Vehicles 101\\r\\n\\r\\nAutonomous vehi...</td>\n",
       "      <td>autonomous vehicles 101 autonomous vehicles â€...</td>\n",
       "    </tr>\n",
       "    <tr>\n",
       "      <th>1</th>\n",
       "      <td>002.txt</td>\n",
       "      <td>autonomous vehicles</td>\n",
       "      <td>002.txt-autonomous vehicles</td>\n",
       "      <td>Which Cars Have Self-Driving Features for 2021...</td>\n",
       "      <td>cars  self-driving feature  2021  long ago fu...</td>\n",
       "    </tr>\n",
       "    <tr>\n",
       "      <th>2</th>\n",
       "      <td>003.txt</td>\n",
       "      <td>autonomous vehicles</td>\n",
       "      <td>003.txt-autonomous vehicles</td>\n",
       "      <td>Self-driving cars: your complete guide to auto...</td>\n",
       "      <td>self-driving cars  complete guide  autonomous ...</td>\n",
       "    </tr>\n",
       "    <tr>\n",
       "      <th>3</th>\n",
       "      <td>004.txt</td>\n",
       "      <td>autonomous vehicles</td>\n",
       "      <td>004.txt-autonomous vehicles</td>\n",
       "      <td>Self-driving cars will not fix our transportat...</td>\n",
       "      <td>self-driving cars   fix  transportation woes i...</td>\n",
       "    </tr>\n",
       "    <tr>\n",
       "      <th>4</th>\n",
       "      <td>005.txt</td>\n",
       "      <td>autonomous vehicles</td>\n",
       "      <td>005.txt-autonomous vehicles</td>\n",
       "      <td>How we feel about our cars means the road to a...</td>\n",
       "      <td>feel   cars mean  road   driverless future m...</td>\n",
       "    </tr>\n",
       "  </tbody>\n",
       "</table>\n",
       "</div>"
      ],
      "text/plain": [
       "  File_Name             Category            Complete_Filename  \\\n",
       "0   001.txt  autonomous vehicles  001.txt-autonomous vehicles   \n",
       "1   002.txt  autonomous vehicles  002.txt-autonomous vehicles   \n",
       "2   003.txt  autonomous vehicles  003.txt-autonomous vehicles   \n",
       "3   004.txt  autonomous vehicles  004.txt-autonomous vehicles   \n",
       "4   005.txt  autonomous vehicles  005.txt-autonomous vehicles   \n",
       "\n",
       "                                             Content  \\\n",
       "0  Autonomous Vehicles 101\\r\\n\\r\\nAutonomous vehi...   \n",
       "1  Which Cars Have Self-Driving Features for 2021...   \n",
       "2  Self-driving cars: your complete guide to auto...   \n",
       "3  Self-driving cars will not fix our transportat...   \n",
       "4  How we feel about our cars means the road to a...   \n",
       "\n",
       "                                      Content_Parsed  \n",
       "0  autonomous vehicles 101 autonomous vehicles â€...  \n",
       "1   cars  self-driving feature  2021  long ago fu...  \n",
       "2  self-driving cars  complete guide  autonomous ...  \n",
       "3  self-driving cars   fix  transportation woes i...  \n",
       "4    feel   cars mean  road   driverless future m...  "
      ]
     },
     "execution_count": 29,
     "metadata": {},
     "output_type": "execute_result"
    }
   ],
   "source": [
    "df.head()"
   ]
  },
  {
   "cell_type": "code",
   "execution_count": 30,
   "id": "5897a6ea",
   "metadata": {},
   "outputs": [],
   "source": [
    "### \"LABELING CODE\""
   ]
  },
  {
   "cell_type": "code",
   "execution_count": 31,
   "id": "6f85269c",
   "metadata": {},
   "outputs": [],
   "source": [
    "category_codes = {\n",
    "    'business': 0,\n",
    "    'entertainment': 1,\n",
    "    'politics': 2,\n",
    "    'sport': 3,\n",
    "    'tech': 4\n",
    "}"
   ]
  },
  {
   "cell_type": "code",
   "execution_count": 32,
   "id": "ae482d7d",
   "metadata": {},
   "outputs": [],
   "source": [
    "# Category mapping\n",
    "df['Category_Code'] = df['Category']\n",
    "df = df.replace({'Category_Code':category_codes})"
   ]
  },
  {
   "cell_type": "code",
   "execution_count": 33,
   "id": "9373fc02",
   "metadata": {},
   "outputs": [
    {
     "data": {
      "text/html": [
       "<div>\n",
       "<style scoped>\n",
       "    .dataframe tbody tr th:only-of-type {\n",
       "        vertical-align: middle;\n",
       "    }\n",
       "\n",
       "    .dataframe tbody tr th {\n",
       "        vertical-align: top;\n",
       "    }\n",
       "\n",
       "    .dataframe thead th {\n",
       "        text-align: right;\n",
       "    }\n",
       "</style>\n",
       "<table border=\"1\" class=\"dataframe\">\n",
       "  <thead>\n",
       "    <tr style=\"text-align: right;\">\n",
       "      <th></th>\n",
       "      <th>File_Name</th>\n",
       "      <th>Category</th>\n",
       "      <th>Complete_Filename</th>\n",
       "      <th>Content</th>\n",
       "      <th>Content_Parsed</th>\n",
       "      <th>Category_Code</th>\n",
       "    </tr>\n",
       "  </thead>\n",
       "  <tbody>\n",
       "    <tr>\n",
       "      <th>0</th>\n",
       "      <td>001.txt</td>\n",
       "      <td>autonomous vehicles</td>\n",
       "      <td>001.txt-autonomous vehicles</td>\n",
       "      <td>Autonomous Vehicles 101\\r\\n\\r\\nAutonomous vehi...</td>\n",
       "      <td>autonomous vehicles 101 autonomous vehicles â€...</td>\n",
       "      <td>autonomous vehicles</td>\n",
       "    </tr>\n",
       "    <tr>\n",
       "      <th>1</th>\n",
       "      <td>002.txt</td>\n",
       "      <td>autonomous vehicles</td>\n",
       "      <td>002.txt-autonomous vehicles</td>\n",
       "      <td>Which Cars Have Self-Driving Features for 2021...</td>\n",
       "      <td>cars  self-driving feature  2021  long ago fu...</td>\n",
       "      <td>autonomous vehicles</td>\n",
       "    </tr>\n",
       "    <tr>\n",
       "      <th>2</th>\n",
       "      <td>003.txt</td>\n",
       "      <td>autonomous vehicles</td>\n",
       "      <td>003.txt-autonomous vehicles</td>\n",
       "      <td>Self-driving cars: your complete guide to auto...</td>\n",
       "      <td>self-driving cars  complete guide  autonomous ...</td>\n",
       "      <td>autonomous vehicles</td>\n",
       "    </tr>\n",
       "    <tr>\n",
       "      <th>3</th>\n",
       "      <td>004.txt</td>\n",
       "      <td>autonomous vehicles</td>\n",
       "      <td>004.txt-autonomous vehicles</td>\n",
       "      <td>Self-driving cars will not fix our transportat...</td>\n",
       "      <td>self-driving cars   fix  transportation woes i...</td>\n",
       "      <td>autonomous vehicles</td>\n",
       "    </tr>\n",
       "    <tr>\n",
       "      <th>4</th>\n",
       "      <td>005.txt</td>\n",
       "      <td>autonomous vehicles</td>\n",
       "      <td>005.txt-autonomous vehicles</td>\n",
       "      <td>How we feel about our cars means the road to a...</td>\n",
       "      <td>feel   cars mean  road   driverless future m...</td>\n",
       "      <td>autonomous vehicles</td>\n",
       "    </tr>\n",
       "  </tbody>\n",
       "</table>\n",
       "</div>"
      ],
      "text/plain": [
       "  File_Name             Category            Complete_Filename  \\\n",
       "0   001.txt  autonomous vehicles  001.txt-autonomous vehicles   \n",
       "1   002.txt  autonomous vehicles  002.txt-autonomous vehicles   \n",
       "2   003.txt  autonomous vehicles  003.txt-autonomous vehicles   \n",
       "3   004.txt  autonomous vehicles  004.txt-autonomous vehicles   \n",
       "4   005.txt  autonomous vehicles  005.txt-autonomous vehicles   \n",
       "\n",
       "                                             Content  \\\n",
       "0  Autonomous Vehicles 101\\r\\n\\r\\nAutonomous vehi...   \n",
       "1  Which Cars Have Self-Driving Features for 2021...   \n",
       "2  Self-driving cars: your complete guide to auto...   \n",
       "3  Self-driving cars will not fix our transportat...   \n",
       "4  How we feel about our cars means the road to a...   \n",
       "\n",
       "                                      Content_Parsed        Category_Code  \n",
       "0  autonomous vehicles 101 autonomous vehicles â€...  autonomous vehicles  \n",
       "1   cars  self-driving feature  2021  long ago fu...  autonomous vehicles  \n",
       "2  self-driving cars  complete guide  autonomous ...  autonomous vehicles  \n",
       "3  self-driving cars   fix  transportation woes i...  autonomous vehicles  \n",
       "4    feel   cars mean  road   driverless future m...  autonomous vehicles  "
      ]
     },
     "execution_count": 33,
     "metadata": {},
     "output_type": "execute_result"
    }
   ],
   "source": [
    "df.head()"
   ]
  },
  {
   "cell_type": "code",
   "execution_count": 34,
   "id": "5b0e804c",
   "metadata": {},
   "outputs": [],
   "source": [
    "### SPLIT DATA OR TESTING AND TRAINING"
   ]
  },
  {
   "cell_type": "code",
   "execution_count": 35,
   "id": "5f6e9832",
   "metadata": {},
   "outputs": [],
   "source": [
    "X_train, X_test, y_train, y_test = train_test_split(df['Content_Parsed'], \n",
    "                                                    df['Category_Code'], \n",
    "                                                    test_size=0.15, \n",
    "                                                    random_state=8)"
   ]
  },
  {
   "cell_type": "code",
   "execution_count": 36,
   "id": "e07b4b2b",
   "metadata": {},
   "outputs": [],
   "source": [
    "### TEXT REPRESENTATION"
   ]
  },
  {
   "cell_type": "code",
   "execution_count": 37,
   "id": "401ea5ad",
   "metadata": {},
   "outputs": [],
   "source": [
    "# Parameter election\n",
    "ngram_range = (1,2)\n",
    "min_df = 10\n",
    "max_df = 1.\n",
    "max_features = 300"
   ]
  },
  {
   "cell_type": "code",
   "execution_count": 38,
   "id": "ae38585a",
   "metadata": {},
   "outputs": [
    {
     "name": "stdout",
     "output_type": "stream",
     "text": [
      "(1898, 300)\n",
      "(335, 300)\n"
     ]
    }
   ],
   "source": [
    "tfidf = TfidfVectorizer(encoding='utf-8',\n",
    "                        ngram_range=ngram_range,\n",
    "                        stop_words=None,\n",
    "                        lowercase=False,\n",
    "                        max_df=max_df,\n",
    "                        min_df=min_df,\n",
    "                        max_features=max_features,\n",
    "                        norm='l2',\n",
    "                        sublinear_tf=True)\n",
    "                        \n",
    "features_train = tfidf.fit_transform(X_train).toarray()\n",
    "labels_train = y_train\n",
    "print(features_train.shape)\n",
    "\n",
    "features_test = tfidf.transform(X_test).toarray()\n",
    "labels_test = y_test\n",
    "print(features_test.shape)"
   ]
  },
  {
   "cell_type": "code",
   "execution_count": 39,
   "id": "b846e05c",
   "metadata": {},
   "outputs": [
    {
     "name": "stdout",
     "output_type": "stream",
     "text": [
      "# 'business' category:\n",
      "  . Most correlated unigrams:\n",
      ". profit\n",
      ". economy\n",
      ". oil\n",
      ". growth\n",
      ". bank\n",
      "  . Most correlated bigrams:\n",
      ". last year\n",
      ". year old\n",
      "\n",
      "# 'entertainment' category:\n",
      "  . Most correlated unigrams:\n",
      ". music\n",
      ". best\n",
      ". award\n",
      ". star\n",
      ". film\n",
      "  . Most correlated bigrams:\n",
      ". mr blair\n",
      ". prime minister\n",
      "\n",
      "# 'politics' category:\n",
      "  . Most correlated unigrams:\n",
      ". minister\n",
      ". blair\n",
      ". party\n",
      ". election\n",
      ". labour\n",
      "  . Most correlated bigrams:\n",
      ". prime minister\n",
      ". mr blair\n",
      "\n",
      "# 'sport' category:\n",
      "  . Most correlated unigrams:\n",
      ". win\n",
      ". club\n",
      ". side\n",
      ". team\n",
      ". match\n",
      "  . Most correlated bigrams:\n",
      ". say mr\n",
      ". year old\n",
      "\n",
      "# 'tech' category:\n",
      "  . Most correlated unigrams:\n",
      ". digital\n",
      ". technology\n",
      ". computer\n",
      ". software\n",
      ". users\n",
      "  . Most correlated bigrams:\n",
      ". year old\n",
      ". say mr\n",
      "\n"
     ]
    }
   ],
   "source": [
    "from sklearn.feature_selection import chi2\n",
    "import numpy as np\n",
    "\n",
    "for Product, category_id in sorted(category_codes.items()):\n",
    "    features_chi2 = chi2(features_train, labels_train == category_id)\n",
    "    indices = np.argsort(features_chi2[0])\n",
    "    feature_names = np.array(tfidf.get_feature_names())[indices]\n",
    "    unigrams = [v for v in feature_names if len(v.split(' ')) == 1]\n",
    "    bigrams = [v for v in feature_names if len(v.split(' ')) == 2]\n",
    "    print(\"# '{}' category:\".format(Product))\n",
    "    print(\"  . Most correlated unigrams:\\n. {}\".format('\\n. '.join(unigrams[-5:])))\n",
    "    print(\"  . Most correlated bigrams:\\n. {}\".format('\\n. '.join(bigrams[-2:])))\n",
    "    print(\"\")"
   ]
  },
  {
   "cell_type": "code",
   "execution_count": 40,
   "id": "a60989b9",
   "metadata": {},
   "outputs": [
    {
     "data": {
      "text/plain": [
       "['tell bbc', 'last year', 'prime minister', 'mr blair', 'year old', 'say mr']"
      ]
     },
     "execution_count": 40,
     "metadata": {},
     "output_type": "execute_result"
    }
   ],
   "source": [
    "bigrams"
   ]
  },
  {
   "cell_type": "code",
   "execution_count": 41,
   "id": "16c8351f",
   "metadata": {},
   "outputs": [],
   "source": [
    "# X_train\n",
    "with open('Pickles/X_train.pickle', 'wb') as output:\n",
    "    pickle.dump(X_train, output)\n",
    "    \n",
    "# X_test    \n",
    "with open('Pickles/X_test.pickle', 'wb') as output:\n",
    "    pickle.dump(X_test, output)\n",
    "    \n",
    "# y_train\n",
    "with open('Pickles/y_train.pickle', 'wb') as output:\n",
    "    pickle.dump(y_train, output)\n",
    "    \n",
    "# y_test\n",
    "with open('Pickles/y_test.pickle', 'wb') as output:\n",
    "    pickle.dump(y_test, output)\n",
    "    \n",
    "# df\n",
    "with open('Pickles/df.pickle', 'wb') as output:\n",
    "    pickle.dump(df, output)\n",
    "    \n",
    "# features_train\n",
    "with open('Pickles/features_train.pickle', 'wb') as output:\n",
    "    pickle.dump(features_train, output)\n",
    "\n",
    "# labels_train\n",
    "with open('Pickles/labels_train.pickle', 'wb') as output:\n",
    "    pickle.dump(labels_train, output)\n",
    "\n",
    "# features_test\n",
    "with open('Pickles/features_test.pickle', 'wb') as output:\n",
    "    pickle.dump(features_test, output)\n",
    "\n",
    "# labels_test\n",
    "with open('Pickles/labels_test.pickle', 'wb') as output:\n",
    "    pickle.dump(labels_test, output)\n",
    "    \n",
    "# TF-IDF object\n",
    "with open('Pickles/tfidf.pickle', 'wb') as output:\n",
    "    pickle.dump(tfidf, output)"
   ]
  }
 ],
 "metadata": {
  "kernelspec": {
   "display_name": "Python 3",
   "language": "python",
   "name": "python3"
  },
  "language_info": {
   "codemirror_mode": {
    "name": "ipython",
    "version": 3
   },
   "file_extension": ".py",
   "mimetype": "text/x-python",
   "name": "python",
   "nbconvert_exporter": "python",
   "pygments_lexer": "ipython3",
   "version": "3.8.8"
  }
 },
 "nbformat": 4,
 "nbformat_minor": 5
}
